{
 "cells": [
  {
   "cell_type": "code",
   "execution_count": 11,
   "id": "36ff9bed",
   "metadata": {},
   "outputs": [
    {
     "name": "stdout",
     "output_type": "stream",
     "text": [
      "<class 'pandas.core.frame.DataFrame'>\n",
      "RangeIndex: 999 entries, 0 to 998\n",
      "Data columns (total 3 columns):\n",
      " #   Column      Non-Null Count  Dtype \n",
      "---  ------      --------------  ----- \n",
      " 0   kecamatan   999 non-null    object\n",
      " 1   nama_taman  999 non-null    object\n",
      " 2   luas        999 non-null    object\n",
      "dtypes: object(3)\n",
      "memory usage: 23.5+ KB\n"
     ]
    }
   ],
   "source": [
    "import pandas as pd\n",
    "import numpy as np\n",
    "import seaborn as sns\n",
    "import matplotlib.pyplot as plt\n",
    "\n",
    "df = pd.read_csv('../datasets/taman_kota_bandung.csv')\n",
    "\n",
    "drop_cols = ['id','nama_provinsi','kode_provinsi','bps_kode_kabupaten_kota','bps_nama_kabupaten_kota','bps_kode_kecamatan','kemendagri_kode_kecamatan','satuan','lokasi','tahun','kemendagri_nama_kecamatan']\n",
    "\n",
    "df = df.drop(columns=drop_cols)\n",
    "\n",
    "df = df.rename(columns={'bps_nama_kecamatan': 'kecamatan'})\n",
    "\n",
    "df.info()\n",
    "\n",
    "df.head()\n",
    "\n",
    "df.to_csv('../datasets/cleaned_taman_kota_bandung.csv', index=False)\n"
   ]
  },
  {
   "cell_type": "code",
   "execution_count": null,
   "id": "4ad488c7",
   "metadata": {},
   "outputs": [],
   "source": []
  }
 ],
 "metadata": {
  "kernelspec": {
   "display_name": "Python 3",
   "language": "python",
   "name": "python3"
  },
  "language_info": {
   "codemirror_mode": {
    "name": "ipython",
    "version": 3
   },
   "file_extension": ".py",
   "mimetype": "text/x-python",
   "name": "python",
   "nbconvert_exporter": "python",
   "pygments_lexer": "ipython3",
   "version": "3.13.5"
  }
 },
 "nbformat": 4,
 "nbformat_minor": 5
}
