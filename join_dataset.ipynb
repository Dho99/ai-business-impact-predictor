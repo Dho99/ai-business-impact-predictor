{
 "cells": [
  {
   "cell_type": "code",
   "execution_count": 8,
   "id": "b4b5e469",
   "metadata": {},
   "outputs": [
    {
     "name": "stdout",
     "output_type": "stream",
     "text": [
      "Combined data shape: (5439, 9)\n",
      "Kepadatan data shape: (30, 5)\n",
      "Merged data shape: (5439, 12)\n",
      "\n",
      "Columns in merged dataset: ['nama', 'alamat', 'kecamatan', 'type', 'latitude', 'longitude', 'tahun', 'source_file', 'kecamatan_kepadatan', 'Jumlah Penduduk', 'Luas Wilayah (km²)', 'Kepadatan (jiwa/km²)']\n"
     ]
    }
   ],
   "source": [
    "import pandas as pd\n",
    "\n",
    "# Load the datasets\n",
    "kepadatan_data = pd.read_csv('./datasets/cleaned_data_Kepadatan_menurut_kecamatan.csv')\n",
    "combined_data = pd.read_csv('./datasets/combined_complete_data_only.csv')\n",
    "\n",
    "# Normalize kecamatan names to lowercase for case-insensitive matching\n",
    "kepadatan_data['kecamatan_normalized'] = kepadatan_data['kecamatan'].str.lower().str.strip()\n",
    "combined_data['kecamatan_normalized'] = combined_data['kecamatan'].str.lower().str.strip()\n",
    "\n",
    "# Merge the datasets based on normalized kecamatan names\n",
    "merged_data = pd.merge(\n",
    "    combined_data, \n",
    "    kepadatan_data, \n",
    "    on='kecamatan_normalized', \n",
    "    how='left',\n",
    "    suffixes=('', '_kepadatan')\n",
    ")\n",
    "\n",
    "# Drop the normalized column used for matching\n",
    "merged_data = merged_data.drop('kecamatan_normalized', axis=1)\n",
    "\n",
    "# Display info about the merged dataset\n",
    "print(f\"Combined data shape: {combined_data.shape}\")\n",
    "print(f\"Kepadatan data shape: {kepadatan_data.shape}\")\n",
    "print(f\"Merged data shape: {merged_data.shape}\")\n",
    "print(f\"\\nColumns in merged dataset: {list(merged_data.columns)}\")\n",
    "\n",
    "merged_data.to_csv('./datasets/kepadatan_data_combined_with_faspub.csv', index=False)"
   ]
  },
  {
   "cell_type": "code",
   "execution_count": null,
   "id": "4dcfa907",
   "metadata": {},
   "outputs": [],
   "source": []
  }
 ],
 "metadata": {
  "kernelspec": {
   "display_name": "Python 3",
   "language": "python",
   "name": "python3"
  },
  "language_info": {
   "codemirror_mode": {
    "name": "ipython",
    "version": 3
   },
   "file_extension": ".py",
   "mimetype": "text/x-python",
   "name": "python",
   "nbconvert_exporter": "python",
   "pygments_lexer": "ipython3",
   "version": "3.13.5"
  }
 },
 "nbformat": 4,
 "nbformat_minor": 5
}
