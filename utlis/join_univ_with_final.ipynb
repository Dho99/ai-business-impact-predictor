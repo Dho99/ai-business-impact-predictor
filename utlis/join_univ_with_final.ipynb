{
 "cells": [
  {
   "cell_type": "code",
   "execution_count": 5,
   "id": "161e3bd9",
   "metadata": {},
   "outputs": [],
   "source": [
    "import pandas as pd\n",
    "import numpy as np\n",
    "\n",
    "df_univ = pd.read_csv('../datasets/jumlah_perguruan_tinggi_per_kec.csv')\n",
    "df_final = pd.read_csv('../datasets/final_training_dataset.csv')\n",
    "\n",
    "# Lowercase kolom kecamatan pada kedua dataframe\n",
    "df_univ['kecamatan'] = df_univ['kecamatan'].str.lower()\n",
    "df_final['kecamatan'] = df_final['kecamatan'].str.lower()\n",
    "\n",
    "\n",
    "# Cek kecamatan yang tidak cocok\n",
    "univ_kec = set(df_univ['kecamatan'])\n",
    "final_kec = set(df_final['kecamatan'])\n",
    "not_in_univ = final_kec - univ_kec\n",
    "\n",
    "if not_in_univ:\n",
    "    print(\"Kecamatan di df_final yang tidak ada di df_univ:\", not_in_univ)\n",
    "\n",
    "# Gabungkan dataframe, isi NaN jumlah kampus dengan 0\n",
    "df_merged = df_final.merge(df_univ[['kecamatan', 'Jumlah']], on='kecamatan', how='left')\n",
    "df_merged['jumlah_kampus'] = df_merged['Jumlah'].fillna(0)\n",
    "\n",
    "# Gabungkan kolom jumlah_kampus ke df_final berdasarkan kecamatan\n",
    "df_final = df_final.merge(df_merged[['kecamatan', 'jumlah_kampus']], on='kecamatan', how='left')\n",
    "\n",
    "\n",
    "df_final.head()\n",
    "df_final.to_csv('../datasets/final_training_dataset.csv', index=False)\n",
    "\n",
    "\n",
    "\n"
   ]
  },
  {
   "cell_type": "code",
   "execution_count": null,
   "id": "f9d46134",
   "metadata": {},
   "outputs": [],
   "source": []
  }
 ],
 "metadata": {
  "kernelspec": {
   "display_name": "Python 3",
   "language": "python",
   "name": "python3"
  },
  "language_info": {
   "codemirror_mode": {
    "name": "ipython",
    "version": 3
   },
   "file_extension": ".py",
   "mimetype": "text/x-python",
   "name": "python",
   "nbconvert_exporter": "python",
   "pygments_lexer": "ipython3",
   "version": "3.13.5"
  }
 },
 "nbformat": 4,
 "nbformat_minor": 5
}
