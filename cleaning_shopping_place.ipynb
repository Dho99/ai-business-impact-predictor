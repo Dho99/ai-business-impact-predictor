{
 "cells": [
  {
   "cell_type": "code",
   "execution_count": 11,
   "id": "8c99f2b7",
   "metadata": {},
   "outputs": [],
   "source": [
    "import pandas as pd\n",
    "\n",
    "df = pd.read_csv('./datasets/jumlah_supermarket_minimarket_bandung.csv')\n",
    "\n",
    "df['type'] = 'shopping_place'\n",
    "\n",
    "cols_to_drop = ['id', 'kode_provinsi', 'nama_provinsi','bps_kode_kabupaten_kota','bps_nama_kabupaten_kota','bps_kode_kecamatan','kemendagri_kode_kecamatan','kemendagri_nama_kecamatan']\n",
    "\n",
    "df.drop(columns=cols_to_drop, inplace=True)\n",
    "\n",
    "\n",
    "\n",
    "df = df.rename(columns={'bps_nama_kecamatan': 'kecamatan'})\n",
    "\n",
    "\n",
    "df.head()\n",
    "\n",
    "# df.info()\n",
    "df.to_csv('./datasets/jumlah_supermarket_minimarket_bandung(2).csv', index=False)"
   ]
  },
  {
   "cell_type": "code",
   "execution_count": null,
   "id": "489343a7",
   "metadata": {},
   "outputs": [],
   "source": []
  }
 ],
 "metadata": {
  "kernelspec": {
   "display_name": "Python 3",
   "language": "python",
   "name": "python3"
  },
  "language_info": {
   "codemirror_mode": {
    "name": "ipython",
    "version": 3
   },
   "file_extension": ".py",
   "mimetype": "text/x-python",
   "name": "python",
   "nbconvert_exporter": "python",
   "pygments_lexer": "ipython3",
   "version": "3.13.5"
  }
 },
 "nbformat": 4,
 "nbformat_minor": 5
}
