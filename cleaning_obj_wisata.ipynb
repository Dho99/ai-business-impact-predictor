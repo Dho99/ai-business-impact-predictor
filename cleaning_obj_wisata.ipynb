{
 "cells": [
  {
   "cell_type": "code",
   "execution_count": 21,
   "id": "a0ec842f",
   "metadata": {},
   "outputs": [
    {
     "name": "stderr",
     "output_type": "stream",
     "text": [
      "C:\\Users\\ridho\\AppData\\Local\\Temp\\ipykernel_8904\\87032013.py:14: FutureWarning: A value is trying to be set on a copy of a DataFrame or Series through chained assignment using an inplace method.\n",
      "The behavior will change in pandas 3.0. This inplace method will never work because the intermediate object on which we are setting values always behaves as a copy.\n",
      "\n",
      "For example, when doing 'df[col].method(value, inplace=True)', try using 'df.method({col: value}, inplace=True)' or df[col] = df[col].method(value) instead, to perform the operation inplace on the original object.\n",
      "\n",
      "\n",
      "  df['kecamatan'].fillna(df['kecamatan'].mode()[0], inplace=True)\n",
      "C:\\Users\\ridho\\AppData\\Local\\Temp\\ipykernel_8904\\87032013.py:15: FutureWarning: A value is trying to be set on a copy of a DataFrame or Series through chained assignment using an inplace method.\n",
      "The behavior will change in pandas 3.0. This inplace method will never work because the intermediate object on which we are setting values always behaves as a copy.\n",
      "\n",
      "For example, when doing 'df[col].method(value, inplace=True)', try using 'df.method({col: value}, inplace=True)' or df[col] = df[col].method(value) instead, to perform the operation inplace on the original object.\n",
      "\n",
      "\n",
      "  df['kelurahan'].fillna(df['kelurahan'].mode()[0], inplace=True)\n"
     ]
    }
   ],
   "source": [
    "import pandas as pd\n",
    "\n",
    "df = pd.read_csv('./datasets/cleaned_objek_wisata_belanja.csv')\n",
    "\n",
    "df['type'] = df['kategori']\n",
    "df = df.rename(columns={'nama_objek_wisata': 'nama_tempat'})\n",
    "\n",
    "cols_to_drop = ['id','kode_provinsi','provinsi','bps_kode_kabupaten_kota','bps_nama_kabupaten_kota','kategori','nama_provinsi','titik_koordinat','kota_kabupaten']\n",
    "\n",
    "df.drop(columns=cols_to_drop, inplace=True)\n",
    "\n",
    "\n",
    "# replace null categorical data using mode\n",
    "df['kecamatan'].fillna(df['kecamatan'].mode()[0], inplace=True)\n",
    "df['kelurahan'].fillna(df['kelurahan'].mode()[0], inplace=True)\n",
    "\n",
    "df['type'] = 'tourism_shopping_place'\n",
    "\n",
    "df.isnull().sum()\n",
    "\n",
    "df.to_csv('./datasets/cleaned_objek_wisata_belanja(2).csv', index=False)\n"
   ]
  },
  {
   "cell_type": "code",
   "execution_count": null,
   "id": "fa310522",
   "metadata": {},
   "outputs": [],
   "source": []
  }
 ],
 "metadata": {
  "kernelspec": {
   "display_name": "Python 3",
   "language": "python",
   "name": "python3"
  },
  "language_info": {
   "codemirror_mode": {
    "name": "ipython",
    "version": 3
   },
   "file_extension": ".py",
   "mimetype": "text/x-python",
   "name": "python",
   "nbconvert_exporter": "python",
   "pygments_lexer": "ipython3",
   "version": "3.13.5"
  }
 },
 "nbformat": 4,
 "nbformat_minor": 5
}
