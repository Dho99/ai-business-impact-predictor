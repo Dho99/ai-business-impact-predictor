{
 "cells": [
  {
   "cell_type": "markdown",
   "id": "be4fa118",
   "metadata": {},
   "source": [
    "# Risk Assessment & Business Impact Scoring\n",
    "\n",
    "This notebook creates a comprehensive risk assessment system for F&B business location selection in Bandung."
   ]
  },
  {
   "cell_type": "markdown",
   "id": "5d471b22",
   "metadata": {},
   "source": [
    "## Import Libraries"
   ]
  },
  {
   "cell_type": "code",
   "execution_count": 1,
   "id": "b0f8bfab",
   "metadata": {},
   "outputs": [],
   "source": [
    "import pandas as pd\n",
    "import numpy as np\n",
    "import matplotlib.pyplot as plt\n",
    "import seaborn as sns\n",
    "import joblib\n",
    "from sklearn.preprocessing import StandardScaler\n",
    "import warnings\n",
    "warnings.filterwarnings('ignore')"
   ]
  },
  {
   "cell_type": "markdown",
   "id": "b4f9f0c5",
   "metadata": {},
   "source": [
    "## Load Trained Model and Data"
   ]
  },
  {
   "cell_type": "code",
   "execution_count": 2,
   "id": "ee51744b",
   "metadata": {},
   "outputs": [
    {
     "name": "stdout",
     "output_type": "stream",
     "text": [
      "✅ Model and scaler loaded successfully\n",
      "✅ Feature names loaded: 13 features\n",
      "✅ Dataset loaded: (31, 9)\n"
     ]
    }
   ],
   "source": [
    "# Load the best trained model\n",
    "try:\n",
    "    model = joblib.load('../models/best_model.pkl')\n",
    "    scaler = joblib.load('../models/scaler.pkl')\n",
    "    print(\"✅ Model and scaler loaded successfully\")\n",
    "except:\n",
    "    print(\"❌ Model not found. Please run model_development.ipynb first\")\n",
    "\n",
    "# Load feature names\n",
    "try:\n",
    "    with open('../models/feature_names.txt', 'r') as f:\n",
    "        feature_names = [line.strip() for line in f.readlines()]\n",
    "    print(f\"✅ Feature names loaded: {len(feature_names)} features\")\n",
    "except:\n",
    "    print(\"❌ Feature names not found\")\n",
    "\n",
    "# Load dataset\n",
    "df = pd.read_csv('../datasets/final_training_dataset.csv')\n",
    "print(f\"✅ Dataset loaded: {df.shape}\")"
   ]
  },
  {
   "cell_type": "markdown",
   "id": "d90d22b9",
   "metadata": {},
   "source": [
    "## Risk Scoring Framework"
   ]
  },
  {
   "cell_type": "code",
   "execution_count": 8,
   "id": "b1f5ef96",
   "metadata": {},
   "outputs": [
    {
     "name": "stdout",
     "output_type": "stream",
     "text": [
      "✅ Risk Assessment System initialized\n"
     ]
    }
   ],
   "source": [
    "class BusinessRiskAssessment:\n",
    "    def __init__(self, model, scaler, feature_names):\n",
    "        self.model = model\n",
    "        self.scaler = scaler\n",
    "        self.feature_names = feature_names\n",
    "        \n",
    "    def predict_rating(self, location_data):\n",
    "        \"\"\"\n",
    "        Predict business rating for given location data\n",
    "        \"\"\"\n",
    "        # Ensure features are in correct order\n",
    "        features = location_data[self.feature_names]\n",
    "        \n",
    "        # Scale if needed (for linear models)\n",
    "        try:\n",
    "            features_scaled = self.scaler.transform([features])\n",
    "            prediction = self.model.predict(features_scaled)[0]\n",
    "        except:\n",
    "            # For tree-based models that don't need scaling\n",
    "            prediction = self.model.predict([features])[0]\n",
    "            \n",
    "        return prediction\n",
    "    \n",
    "    def calculate_risk_score(self, predicted_rating, market_saturation, competition_density):\n",
    "        \"\"\"\n",
    "        Calculate comprehensive risk score based on multiple factors\n",
    "        \"\"\"\n",
    "        # Base risk from predicted rating (inverse relationship)\n",
    "        rating_risk = (5.0 - predicted_rating) / 4.0  # Normalize to 0-1\n",
    "        \n",
    "        # Market saturation risk (high fnb_per_capita = high risk)\n",
    "        saturation_risk = min(market_saturation * 1000, 1.0)  # Cap at 1.0\n",
    "        \n",
    "        # Competition density risk (high fnb_per_km2 = high risk)\n",
    "        competition_risk = min(competition_density / 10, 1.0)  # Cap at 1.0\n",
    "        \n",
    "        # Weighted composite risk score\n",
    "        composite_risk = (\n",
    "            0.5 * rating_risk +      # 50% weight on predicted performance\n",
    "            0.3 * saturation_risk +  # 30% weight on market saturation\n",
    "            0.2 * competition_risk   # 20% weight on competition density\n",
    "        )\n",
    "        \n",
    "        return min(composite_risk, 1.0)  # Ensure risk doesn't exceed 1.0\n",
    "    \n",
    "    def get_risk_category(self, risk_score):\n",
    "        \"\"\"\n",
    "        Categorize risk level\n",
    "        \"\"\"\n",
    "        if risk_score <= 0.3:\n",
    "            return \"LOW RISK\", \"🟢\"\n",
    "        elif risk_score <= 0.6:\n",
    "            return \"MEDIUM RISK\", \"🟡\"\n",
    "        else:\n",
    "            return \"HIGH RISK\", \"🔴\"\n",
    "    \n",
    "    def generate_recommendations(self, risk_score, predicted_rating, location_data):\n",
    "        \"\"\"\n",
    "        Generate business recommendations based on risk assessment\n",
    "        \"\"\"\n",
    "        recommendations = []\n",
    "        \n",
    "        # Rating-based recommendations\n",
    "        if predicted_rating < 3.5:\n",
    "            recommendations.append(\"⚠️ Focus on exceptional food quality and service\")\n",
    "            recommendations.append(\"📈 Consider unique value proposition to stand out\")\n",
    "        \n",
    "        # Market saturation recommendations\n",
    "        if location_data.get('fnb_per_capita', 0) > 0.001:  # High saturation\n",
    "            recommendations.append(\"🎯 Differentiate with specialized cuisine or concept\")\n",
    "            recommendations.append(\"💰 Competitive pricing strategy essential\")\n",
    "        \n",
    "        # Competition density recommendations\n",
    "        if location_data.get('fnb_per_km2', 0) > 5:  # High competition\n",
    "            recommendations.append(\"🚀 Strong marketing and branding required\")\n",
    "            recommendations.append(\"⭐ Exceptional customer experience crucial\")\n",
    "        \n",
    "        # Population-based recommendations\n",
    "        if location_data.get('Jumlah Penduduk', 0) < 50000:  # Low population\n",
    "            recommendations.append(\"📍 Consider targeting tourists or office workers\")\n",
    "            recommendations.append(\"🎪 Host events to attract customers from nearby areas\")\n",
    "        \n",
    "        # General recommendations based on risk level\n",
    "        if risk_score > 0.6:\n",
    "            recommendations.append(\"🛡️ Consider alternative locations or business models\")\n",
    "            recommendations.append(\"💼 Ensure strong financial reserves for initial period\")\n",
    "        elif risk_score < 0.3:\n",
    "            recommendations.append(\"✅ Good location fundamentals - focus on execution\")\n",
    "            recommendations.append(\"📊 Monitor market trends for expansion opportunities\")\n",
    "        \n",
    "        return recommendations\n",
    "\n",
    "# Initialize the risk assessment system\n",
    "risk_assessor = BusinessRiskAssessment(model, scaler, feature_names)\n",
    "print(\"✅ Risk Assessment System initialized\")"
   ]
  },
  {
   "cell_type": "markdown",
   "id": "43acc4a7",
   "metadata": {},
   "source": [
    "## Analyze Current Dataset Locations"
   ]
  },
  {
   "cell_type": "code",
   "execution_count": 9,
   "id": "9855d0a2",
   "metadata": {},
   "outputs": [
    {
     "name": "stdout",
     "output_type": "stream",
     "text": [
      "✅ Risk analysis completed for 31 locations\n"
     ]
    }
   ],
   "source": [
    "# Add risk scores to the dataset\n",
    "df_analysis = df.copy()\n",
    "\n",
    "# Calculate risk scores for all locations\n",
    "risk_scores = []\n",
    "predicted_ratings = []\n",
    "\n",
    "for idx, row in df_analysis.iterrows():\n",
    "    try:\n",
    "        # Get prediction\n",
    "        pred_rating = risk_assessor.predict_rating(row)\n",
    "        predicted_ratings.append(pred_rating)\n",
    "        \n",
    "        # Calculate risk score\n",
    "        market_saturation = row.get('fnb_per_capita', 0)\n",
    "        competition_density = row.get('fnb_per_km2', 0)\n",
    "        \n",
    "        risk_score = risk_assessor.calculate_risk_score(\n",
    "            pred_rating, market_saturation, competition_density\n",
    "        )\n",
    "        risk_scores.append(risk_score)\n",
    "        \n",
    "    except Exception as e:\n",
    "        # Handle missing features\n",
    "        predicted_ratings.append(3.0)  # Default rating\n",
    "        risk_scores.append(0.5)  # Medium risk\n",
    "\n",
    "df_analysis['predicted_rating'] = predicted_ratings\n",
    "df_analysis['risk_score'] = risk_scores\n",
    "df_analysis['risk_category'] = df_analysis['risk_score'].apply(\n",
    "    lambda x: risk_assessor.get_risk_category(x)[0]\n",
    ")\n",
    "\n",
    "print(f\"✅ Risk analysis completed for {len(df_analysis)} locations\")"
   ]
  },
  {
   "cell_type": "markdown",
   "id": "6001f324",
   "metadata": {},
   "source": [
    "## Risk Distribution Analysis"
   ]
  },
  {
   "cell_type": "code",
   "execution_count": 10,
   "id": "2f4b1759",
   "metadata": {},
   "outputs": [
    {
     "name": "stdout",
     "output_type": "stream",
     "text": [
      "Risk Distribution:\n",
      "risk_category\n",
      "MEDIUM RISK    31\n",
      "Name: count, dtype: int64\n",
      "\n",
      "Risk Statistics:\n",
      "Mean Risk Score: 0.500\n",
      "Median Risk Score: 0.500\n",
      "Std Risk Score: 0.000\n"
     ]
    }
   ],
   "source": [
    "# Risk distribution summary\n",
    "risk_summary = df_analysis['risk_category'].value_counts()\n",
    "print(\"Risk Distribution:\")\n",
    "print(risk_summary)\n",
    "print(f\"\\nRisk Statistics:\")\n",
    "print(f\"Mean Risk Score: {df_analysis['risk_score'].mean():.3f}\")\n",
    "print(f\"Median Risk Score: {df_analysis['risk_score'].median():.3f}\")\n",
    "print(f\"Std Risk Score: {df_analysis['risk_score'].std():.3f}\")"
   ]
  },
  {
   "cell_type": "code",
   "execution_count": 11,
   "id": "398f9310",
   "metadata": {},
   "outputs": [
    {
     "data": {
      "image/png": "[encoded data removed]",
      "text/plain": [
       "<Figure size 1500x1200 with 4 Axes>"
      ]
     },
     "metadata": {},
     "output_type": "display_data"
    }
   ],
   "source": [
    "# Visualize risk distribution\n",
    "fig, axes = plt.subplots(2, 2, figsize=(15, 12))\n",
    "\n",
    "# Risk category distribution\n",
    "axes[0, 0].pie(risk_summary.values, labels=risk_summary.index, autopct='%1.1f%%', \n",
    "               colors=['lightgreen', 'gold', 'lightcoral'])\n",
    "axes[0, 0].set_title('Risk Category Distribution')\n",
    "\n",
    "# Risk score histogram\n",
    "axes[0, 1].hist(df_analysis['risk_score'], bins=20, alpha=0.7, color='skyblue', edgecolor='black')\n",
    "axes[0, 1].set_xlabel('Risk Score')\n",
    "axes[0, 1].set_ylabel('Frequency')\n",
    "axes[0, 1].set_title('Risk Score Distribution')\n",
    "axes[0, 1].axvline(df_analysis['risk_score'].mean(), color='red', linestyle='--', label='Mean')\n",
    "axes[0, 1].legend()\n",
    "\n",
    "# Predicted vs Actual Rating\n",
    "axes[1, 0].scatter(df_analysis['avg_rating'], df_analysis['predicted_rating'], alpha=0.6)\n",
    "axes[1, 0].plot([1, 5], [1, 5], 'r--', lw=2)\n",
    "axes[1, 0].set_xlabel('Actual Rating')\n",
    "axes[1, 0].set_ylabel('Predicted Rating')\n",
    "axes[1, 0].set_title('Predicted vs Actual Ratings')\n",
    "\n",
    "# Risk Score vs Actual Rating\n",
    "axes[1, 1].scatter(df_analysis['avg_rating'], df_analysis['risk_score'], alpha=0.6, color='orange')\n",
    "axes[1, 1].set_xlabel('Actual Rating')\n",
    "axes[1, 1].set_ylabel('Risk Score')\n",
    "axes[1, 1].set_title('Risk Score vs Actual Rating')\n",
    "\n",
    "plt.tight_layout()\n",
    "plt.savefig('../results/Risk_Analysis_Overview.png', dpi=300, bbox_inches='tight')\n",
    "plt.show()"
   ]
  },
  {
   "cell_type": "markdown",
   "id": "2e74e5db",
   "metadata": {},
   "source": [
    "## Kecamatan-Level Risk Analysis"
   ]
  },
  {
   "cell_type": "code",
   "execution_count": 12,
   "id": "73054e47",
   "metadata": {},
   "outputs": [
    {
     "ename": "KeyError",
     "evalue": "\"Column(s) ['fnb_per_capita', 'fnb_per_km2'] do not exist\"",
     "output_type": "error",
     "traceback": [
      "\u001b[31m---------------------------------------------------------------------------\u001b[39m",
      "\u001b[31mKeyError\u001b[39m                                  Traceback (most recent call last)",
      "\u001b[36mCell\u001b[39m\u001b[36m \u001b[39m\u001b[32mIn[12]\u001b[39m\u001b[32m, line 2\u001b[39m\n\u001b[32m      1\u001b[39m \u001b[38;5;66;03m# Aggregate risk by kecamatan\u001b[39;00m\n\u001b[32m----> \u001b[39m\u001b[32m2\u001b[39m kecamatan_risk = \u001b[43mdf_analysis\u001b[49m\u001b[43m.\u001b[49m\u001b[43mgroupby\u001b[49m\u001b[43m(\u001b[49m\u001b[33;43m'\u001b[39;49m\u001b[33;43mkecamatan\u001b[39;49m\u001b[33;43m'\u001b[39;49m\u001b[43m)\u001b[49m\u001b[43m.\u001b[49m\u001b[43magg\u001b[49m\u001b[43m(\u001b[49m\u001b[43m{\u001b[49m\n\u001b[32m      3\u001b[39m \u001b[43m    \u001b[49m\u001b[33;43m'\u001b[39;49m\u001b[33;43mrisk_score\u001b[39;49m\u001b[33;43m'\u001b[39;49m\u001b[43m:\u001b[49m\u001b[43m \u001b[49m\u001b[43m[\u001b[49m\u001b[33;43m'\u001b[39;49m\u001b[33;43mmean\u001b[39;49m\u001b[33;43m'\u001b[39;49m\u001b[43m,\u001b[49m\u001b[43m \u001b[49m\u001b[33;43m'\u001b[39;49m\u001b[33;43mstd\u001b[39;49m\u001b[33;43m'\u001b[39;49m\u001b[43m,\u001b[49m\u001b[43m \u001b[49m\u001b[33;43m'\u001b[39;49m\u001b[33;43mcount\u001b[39;49m\u001b[33;43m'\u001b[39;49m\u001b[43m]\u001b[49m\u001b[43m,\u001b[49m\n\u001b[32m      4\u001b[39m \u001b[43m    \u001b[49m\u001b[33;43m'\u001b[39;49m\u001b[33;43mavg_rating\u001b[39;49m\u001b[33;43m'\u001b[39;49m\u001b[43m:\u001b[49m\u001b[43m \u001b[49m\u001b[33;43m'\u001b[39;49m\u001b[33;43mmean\u001b[39;49m\u001b[33;43m'\u001b[39;49m\u001b[43m,\u001b[49m\n\u001b[32m      5\u001b[39m \u001b[43m    \u001b[49m\u001b[33;43m'\u001b[39;49m\u001b[33;43mpredicted_rating\u001b[39;49m\u001b[33;43m'\u001b[39;49m\u001b[43m:\u001b[49m\u001b[43m \u001b[49m\u001b[33;43m'\u001b[39;49m\u001b[33;43mmean\u001b[39;49m\u001b[33;43m'\u001b[39;49m\u001b[43m,\u001b[49m\n\u001b[32m      6\u001b[39m \u001b[43m    \u001b[49m\u001b[33;43m'\u001b[39;49m\u001b[33;43mfnb_per_capita\u001b[39;49m\u001b[33;43m'\u001b[39;49m\u001b[43m:\u001b[49m\u001b[43m \u001b[49m\u001b[33;43m'\u001b[39;49m\u001b[33;43mmean\u001b[39;49m\u001b[33;43m'\u001b[39;49m\u001b[43m,\u001b[49m\n\u001b[32m      7\u001b[39m \u001b[43m    \u001b[49m\u001b[33;43m'\u001b[39;49m\u001b[33;43mfnb_per_km2\u001b[39;49m\u001b[33;43m'\u001b[39;49m\u001b[43m:\u001b[49m\u001b[43m \u001b[49m\u001b[33;43m'\u001b[39;49m\u001b[33;43mmean\u001b[39;49m\u001b[33;43m'\u001b[39;49m\n\u001b[32m      8\u001b[39m \u001b[43m}\u001b[49m\u001b[43m)\u001b[49m.round(\u001b[32m3\u001b[39m)\n\u001b[32m     10\u001b[39m kecamatan_risk.columns = [\u001b[33m'\u001b[39m\u001b[33mavg_risk_score\u001b[39m\u001b[33m'\u001b[39m, \u001b[33m'\u001b[39m\u001b[33mrisk_std\u001b[39m\u001b[33m'\u001b[39m, \u001b[33m'\u001b[39m\u001b[33mbusiness_count\u001b[39m\u001b[33m'\u001b[39m, \n\u001b[32m     11\u001b[39m                          \u001b[33m'\u001b[39m\u001b[33mavg_actual_rating\u001b[39m\u001b[33m'\u001b[39m, \u001b[33m'\u001b[39m\u001b[33mavg_predicted_rating\u001b[39m\u001b[33m'\u001b[39m,\n\u001b[32m     12\u001b[39m                          \u001b[33m'\u001b[39m\u001b[33mmarket_saturation\u001b[39m\u001b[33m'\u001b[39m, \u001b[33m'\u001b[39m\u001b[33mcompetition_density\u001b[39m\u001b[33m'\u001b[39m]\n\u001b[32m     14\u001b[39m \u001b[38;5;66;03m# Sort by average risk score\u001b[39;00m\n",
      "\u001b[36mFile \u001b[39m\u001b[32md:\\Farid2\\Project\\ai-business-impact-predictor\\.venv\\Lib\\site-packages\\pandas\\core\\groupby\\generic.py:1432\u001b[39m, in \u001b[36mDataFrameGroupBy.aggregate\u001b[39m\u001b[34m(self, func, engine, engine_kwargs, *args, **kwargs)\u001b[39m\n\u001b[32m   1429\u001b[39m     kwargs[\u001b[33m\"\u001b[39m\u001b[33mengine_kwargs\u001b[39m\u001b[33m\"\u001b[39m] = engine_kwargs\n\u001b[32m   1431\u001b[39m op = GroupByApply(\u001b[38;5;28mself\u001b[39m, func, args=args, kwargs=kwargs)\n\u001b[32m-> \u001b[39m\u001b[32m1432\u001b[39m result = \u001b[43mop\u001b[49m\u001b[43m.\u001b[49m\u001b[43magg\u001b[49m\u001b[43m(\u001b[49m\u001b[43m)\u001b[49m\n\u001b[32m   1433\u001b[39m \u001b[38;5;28;01mif\u001b[39;00m \u001b[38;5;129;01mnot\u001b[39;00m is_dict_like(func) \u001b[38;5;129;01mand\u001b[39;00m result \u001b[38;5;129;01mis\u001b[39;00m \u001b[38;5;129;01mnot\u001b[39;00m \u001b[38;5;28;01mNone\u001b[39;00m:\n\u001b[32m   1434\u001b[39m     \u001b[38;5;66;03m# GH #52849\u001b[39;00m\n\u001b[32m   1435\u001b[39m     \u001b[38;5;28;01mif\u001b[39;00m \u001b[38;5;129;01mnot\u001b[39;00m \u001b[38;5;28mself\u001b[39m.as_index \u001b[38;5;129;01mand\u001b[39;00m is_list_like(func):\n",
      "\u001b[36mFile \u001b[39m\u001b[32md:\\Farid2\\Project\\ai-business-impact-predictor\\.venv\\Lib\\site-packages\\pandas\\core\\apply.py:190\u001b[39m, in \u001b[36mApply.agg\u001b[39m\u001b[34m(self)\u001b[39m\n\u001b[32m    187\u001b[39m     \u001b[38;5;28;01mreturn\u001b[39;00m \u001b[38;5;28mself\u001b[39m.apply_str()\n\u001b[32m    189\u001b[39m \u001b[38;5;28;01mif\u001b[39;00m is_dict_like(func):\n\u001b[32m--> \u001b[39m\u001b[32m190\u001b[39m     \u001b[38;5;28;01mreturn\u001b[39;00m \u001b[38;5;28;43mself\u001b[39;49m\u001b[43m.\u001b[49m\u001b[43magg_dict_like\u001b[49m\u001b[43m(\u001b[49m\u001b[43m)\u001b[49m\n\u001b[32m    191\u001b[39m \u001b[38;5;28;01melif\u001b[39;00m is_list_like(func):\n\u001b[32m    192\u001b[39m     \u001b[38;5;66;03m# we require a list, but not a 'str'\u001b[39;00m\n\u001b[32m    193\u001b[39m     \u001b[38;5;28;01mreturn\u001b[39;00m \u001b[38;5;28mself\u001b[39m.agg_list_like()\n",
      "\u001b[36mFile \u001b[39m\u001b[32md:\\Farid2\\Project\\ai-business-impact-predictor\\.venv\\Lib\\site-packages\\pandas\\core\\apply.py:423\u001b[39m, in \u001b[36mApply.agg_dict_like\u001b[39m\u001b[34m(self)\u001b[39m\n\u001b[32m    415\u001b[39m \u001b[38;5;28;01mdef\u001b[39;00m\u001b[38;5;250m \u001b[39m\u001b[34magg_dict_like\u001b[39m(\u001b[38;5;28mself\u001b[39m) -> DataFrame | Series:\n\u001b[32m    416\u001b[39m \u001b[38;5;250m    \u001b[39m\u001b[33;03m\"\"\"\u001b[39;00m\n\u001b[32m    417\u001b[39m \u001b[33;03m    Compute aggregation in the case of a dict-like argument.\u001b[39;00m\n\u001b[32m    418\u001b[39m \n\u001b[32m   (...)\u001b[39m\u001b[32m    421\u001b[39m \u001b[33;03m    Result of aggregation.\u001b[39;00m\n\u001b[32m    422\u001b[39m \u001b[33;03m    \"\"\"\u001b[39;00m\n\u001b[32m--> \u001b[39m\u001b[32m423\u001b[39m     \u001b[38;5;28;01mreturn\u001b[39;00m \u001b[38;5;28;43mself\u001b[39;49m\u001b[43m.\u001b[49m\u001b[43magg_or_apply_dict_like\u001b[49m\u001b[43m(\u001b[49m\u001b[43mop_name\u001b[49m\u001b[43m=\u001b[49m\u001b[33;43m\"\u001b[39;49m\u001b[33;43magg\u001b[39;49m\u001b[33;43m\"\u001b[39;49m\u001b[43m)\u001b[49m\n",
      "\u001b[36mFile \u001b[39m\u001b[32md:\\Farid2\\Project\\ai-business-impact-predictor\\.venv\\Lib\\site-packages\\pandas\\core\\apply.py:1603\u001b[39m, in \u001b[36mGroupByApply.agg_or_apply_dict_like\u001b[39m\u001b[34m(self, op_name)\u001b[39m\n\u001b[32m   1598\u001b[39m     kwargs.update({\u001b[33m\"\u001b[39m\u001b[33mengine\u001b[39m\u001b[33m\"\u001b[39m: engine, \u001b[33m\"\u001b[39m\u001b[33mengine_kwargs\u001b[39m\u001b[33m\"\u001b[39m: engine_kwargs})\n\u001b[32m   1600\u001b[39m \u001b[38;5;28;01mwith\u001b[39;00m com.temp_setattr(\n\u001b[32m   1601\u001b[39m     obj, \u001b[33m\"\u001b[39m\u001b[33mas_index\u001b[39m\u001b[33m\"\u001b[39m, \u001b[38;5;28;01mTrue\u001b[39;00m, condition=\u001b[38;5;28mhasattr\u001b[39m(obj, \u001b[33m\"\u001b[39m\u001b[33mas_index\u001b[39m\u001b[33m\"\u001b[39m)\n\u001b[32m   1602\u001b[39m ):\n\u001b[32m-> \u001b[39m\u001b[32m1603\u001b[39m     result_index, result_data = \u001b[38;5;28;43mself\u001b[39;49m\u001b[43m.\u001b[49m\u001b[43mcompute_dict_like\u001b[49m\u001b[43m(\u001b[49m\n\u001b[32m   1604\u001b[39m \u001b[43m        \u001b[49m\u001b[43mop_name\u001b[49m\u001b[43m,\u001b[49m\u001b[43m \u001b[49m\u001b[43mselected_obj\u001b[49m\u001b[43m,\u001b[49m\u001b[43m \u001b[49m\u001b[43mselection\u001b[49m\u001b[43m,\u001b[49m\u001b[43m \u001b[49m\u001b[43mkwargs\u001b[49m\n\u001b[32m   1605\u001b[39m \u001b[43m    \u001b[49m\u001b[43m)\u001b[49m\n\u001b[32m   1606\u001b[39m result = \u001b[38;5;28mself\u001b[39m.wrap_results_dict_like(selected_obj, result_index, result_data)\n\u001b[32m   1607\u001b[39m \u001b[38;5;28;01mreturn\u001b[39;00m result\n",
      "\u001b[36mFile \u001b[39m\u001b[32md:\\Farid2\\Project\\ai-business-impact-predictor\\.venv\\Lib\\site-packages\\pandas\\core\\apply.py:462\u001b[39m, in \u001b[36mApply.compute_dict_like\u001b[39m\u001b[34m(self, op_name, selected_obj, selection, kwargs)\u001b[39m\n\u001b[32m    460\u001b[39m is_groupby = \u001b[38;5;28misinstance\u001b[39m(obj, (DataFrameGroupBy, SeriesGroupBy))\n\u001b[32m    461\u001b[39m func = cast(AggFuncTypeDict, \u001b[38;5;28mself\u001b[39m.func)\n\u001b[32m--> \u001b[39m\u001b[32m462\u001b[39m func = \u001b[38;5;28;43mself\u001b[39;49m\u001b[43m.\u001b[49m\u001b[43mnormalize_dictlike_arg\u001b[49m\u001b[43m(\u001b[49m\u001b[43mop_name\u001b[49m\u001b[43m,\u001b[49m\u001b[43m \u001b[49m\u001b[43mselected_obj\u001b[49m\u001b[43m,\u001b[49m\u001b[43m \u001b[49m\u001b[43mfunc\u001b[49m\u001b[43m)\u001b[49m\n\u001b[32m    464\u001b[39m is_non_unique_col = (\n\u001b[32m    465\u001b[39m     selected_obj.ndim == \u001b[32m2\u001b[39m\n\u001b[32m    466\u001b[39m     \u001b[38;5;129;01mand\u001b[39;00m selected_obj.columns.nunique() < \u001b[38;5;28mlen\u001b[39m(selected_obj.columns)\n\u001b[32m    467\u001b[39m )\n\u001b[32m    469\u001b[39m \u001b[38;5;28;01mif\u001b[39;00m selected_obj.ndim == \u001b[32m1\u001b[39m:\n\u001b[32m    470\u001b[39m     \u001b[38;5;66;03m# key only used for output\u001b[39;00m\n",
      "\u001b[36mFile \u001b[39m\u001b[32md:\\Farid2\\Project\\ai-business-impact-predictor\\.venv\\Lib\\site-packages\\pandas\\core\\apply.py:663\u001b[39m, in \u001b[36mApply.normalize_dictlike_arg\u001b[39m\u001b[34m(self, how, obj, func)\u001b[39m\n\u001b[32m    661\u001b[39m     cols = Index(\u001b[38;5;28mlist\u001b[39m(func.keys())).difference(obj.columns, sort=\u001b[38;5;28;01mTrue\u001b[39;00m)\n\u001b[32m    662\u001b[39m     \u001b[38;5;28;01mif\u001b[39;00m \u001b[38;5;28mlen\u001b[39m(cols) > \u001b[32m0\u001b[39m:\n\u001b[32m--> \u001b[39m\u001b[32m663\u001b[39m         \u001b[38;5;28;01mraise\u001b[39;00m \u001b[38;5;167;01mKeyError\u001b[39;00m(\u001b[33mf\u001b[39m\u001b[33m\"\u001b[39m\u001b[33mColumn(s) \u001b[39m\u001b[38;5;132;01m{\u001b[39;00m\u001b[38;5;28mlist\u001b[39m(cols)\u001b[38;5;132;01m}\u001b[39;00m\u001b[33m do not exist\u001b[39m\u001b[33m\"\u001b[39m)\n\u001b[32m    665\u001b[39m aggregator_types = (\u001b[38;5;28mlist\u001b[39m, \u001b[38;5;28mtuple\u001b[39m, \u001b[38;5;28mdict\u001b[39m)\n\u001b[32m    667\u001b[39m \u001b[38;5;66;03m# if we have a dict of any non-scalars\u001b[39;00m\n\u001b[32m    668\u001b[39m \u001b[38;5;66;03m# eg. {'A' : ['mean']}, normalize all to\u001b[39;00m\n\u001b[32m    669\u001b[39m \u001b[38;5;66;03m# be list-likes\u001b[39;00m\n\u001b[32m    670\u001b[39m \u001b[38;5;66;03m# Cannot use func.values() because arg may be a Series\u001b[39;00m\n",
      "\u001b[31mKeyError\u001b[39m: \"Column(s) ['fnb_per_capita', 'fnb_per_km2'] do not exist\""
     ]
    }
   ],
   "source": [
    "# Aggregate risk by kecamatan\n",
    "kecamatan_risk = df_analysis.groupby('kecamatan').agg({\n",
    "    'risk_score': ['mean', 'std', 'count'],\n",
    "    'avg_rating': 'mean',\n",
    "    'predicted_rating': 'mean',\n",
    "    'fnb_per_capita': 'mean',\n",
    "    'fnb_per_km2': 'mean'\n",
    "}).round(3)\n",
    "\n",
    "kecamatan_risk.columns = ['avg_risk_score', 'risk_std', 'business_count', \n",
    "                         'avg_actual_rating', 'avg_predicted_rating',\n",
    "                         'market_saturation', 'competition_density']\n",
    "\n",
    "# Sort by average risk score\n",
    "kecamatan_risk = kecamatan_risk.sort_values('avg_risk_score')\n",
    "\n",
    "print(\"Kecamatan Risk Analysis (Top 10 Lowest Risk):\")\n",
    "print(kecamatan_risk.head(10))\n",
    "\n",
    "print(\"\\nKecamatan Risk Analysis (Top 10 Highest Risk):\")\n",
    "print(kecamatan_risk.tail(10))"
   ]
  },
  {
   "cell_type": "code",
   "execution_count": null,
   "id": "a4ac4a5c",
   "metadata": {},
   "outputs": [],
   "source": [
    "# Visualize kecamatan risk levels\n",
    "plt.figure(figsize=(14, 8))\n",
    "top_kecamatan = kecamatan_risk.head(15)  # Top 15 lowest risk\n",
    "\n",
    "colors = ['green' if x <= 0.3 else 'orange' if x <= 0.6 else 'red' \n",
    "          for x in top_kecamatan['avg_risk_score']]\n",
    "\n",
    "bars = plt.bar(range(len(top_kecamatan)), top_kecamatan['avg_risk_score'], \n",
    "               color=colors, alpha=0.7)\n",
    "\n",
    "plt.xlabel('Kecamatan')\n",
    "plt.ylabel('Average Risk Score')\n",
    "plt.title('Average Risk Score by Kecamatan (Top 15 Lowest Risk)')\n",
    "plt.xticks(range(len(top_kecamatan)), top_kecamatan.index, rotation=45, ha='right')\n",
    "\n",
    "# Add risk threshold lines\n",
    "plt.axhline(y=0.3, color='green', linestyle='--', alpha=0.7, label='Low Risk Threshold')\n",
    "plt.axhline(y=0.6, color='orange', linestyle='--', alpha=0.7, label='Medium Risk Threshold')\n",
    "\n",
    "plt.legend()\n",
    "plt.tight_layout()\n",
    "plt.savefig('../results/Kecamatan_Risk_Analysis.png', dpi=300, bbox_inches='tight')\n",
    "plt.show()"
   ]
  },
  {
   "cell_type": "markdown",
   "id": "154b4912",
   "metadata": {},
   "source": [
    "## Interactive Risk Assessment Function"
   ]
  },
  {
   "cell_type": "code",
   "execution_count": null,
   "id": "e3741e90",
   "metadata": {},
   "outputs": [],
   "source": [
    "def assess_location_risk(jumlah_penduduk, luas_wilayah, kepadatan_jiwa, \n",
    "                        jumlah_fnb, jumlah_taman, avg_price,\n",
    "                        jumlah_shopping_place=0, jumlah_universitas=0):\n",
    "    \"\"\"\n",
    "    Comprehensive location risk assessment function\n",
    "    \"\"\"\n",
    "    # Create location data dictionary\n",
    "    location_data = {\n",
    "        'Jumlah Penduduk': jumlah_penduduk,\n",
    "        'Luas Wilayah': luas_wilayah,\n",
    "        'Kepadatan Jiwa': kepadatan_jiwa,\n",
    "        'jumlah_fnb': jumlah_fnb,\n",
    "        'jumlah_taman': jumlah_taman,\n",
    "        'avg_price': avg_price,\n",
    "        'jumlah_shopping_place': jumlah_shopping_place,\n",
    "        'jumlah_universitas': jumlah_universitas\n",
    "    }\n",
    "    \n",
    "    # Calculate derived features\n",
    "    location_data['fnb_per_capita'] = jumlah_fnb / jumlah_penduduk\n",
    "    location_data['fnb_per_km2'] = jumlah_fnb / luas_wilayah\n",
    "    location_data['taman_per_capita'] = jumlah_taman / jumlah_penduduk\n",
    "    \n",
    "    # Estimate productive population (65% assumption)\n",
    "    location_data['jumlah_penduduk_usia_produktif'] = jumlah_penduduk * 0.65\n",
    "    location_data['penduduk_produktif_ratio'] = 0.65\n",
    "    \n",
    "    try:\n",
    "        # Get prediction\n",
    "        predicted_rating = risk_assessor.predict_rating(pd.Series(location_data))\n",
    "        \n",
    "        # Calculate risk score\n",
    "        risk_score = risk_assessor.calculate_risk_score(\n",
    "            predicted_rating,\n",
    "            location_data['fnb_per_capita'],\n",
    "            location_data['fnb_per_km2']\n",
    "        )\n",
    "        \n",
    "        # Get risk category\n",
    "        risk_category, risk_emoji = risk_assessor.get_risk_category(risk_score)\n",
    "        \n",
    "        # Generate recommendations\n",
    "        recommendations = risk_assessor.generate_recommendations(\n",
    "            risk_score, predicted_rating, location_data\n",
    "        )\n",
    "        \n",
    "        # Print results\n",
    "        print(\"\" + \"=\"*60)\n",
    "        print(\"🏪 BUSINESS LOCATION RISK ASSESSMENT REPORT\")\n",
    "        print(\"=\"*60)\n",
    "        print(f\"📍 Location Demographics:\")\n",
    "        print(f\"   Population: {jumlah_penduduk:,}\")\n",
    "        print(f\"   Area: {luas_wilayah:.2f} km²\")\n",
    "        print(f\"   Population Density: {kepadatan_jiwa:,} people/km²\")\n",
    "        print(f\"   Existing F&B: {jumlah_fnb}\")\n",
    "        print(f\"   Parks: {jumlah_taman}\")\n",
    "        print(f\"   Average Price: Rp {avg_price:,}\")\n",
    "        \n",
    "        print(f\"\\n📊 Market Analysis:\")\n",
    "        print(f\"   F&B per 1000 people: {location_data['fnb_per_capita']*1000:.2f}\")\n",
    "        print(f\"   F&B density: {location_data['fnb_per_km2']:.2f} per km²\")\n",
    "        print(f\"   Parks per 1000 people: {location_data['taman_per_capita']*1000:.2f}\")\n",
    "        \n",
    "        print(f\"\\n🎯 AI Predictions:\")\n",
    "        print(f\"   Expected Rating: {predicted_rating:.2f}/5.0 ⭐\")\n",
    "        print(f\"   Risk Score: {risk_score:.3f}\")\n",
    "        print(f\"   Risk Level: {risk_emoji} {risk_category}\")\n",
    "        \n",
    "        print(f\"\\n💡 Recommendations:\")\n",
    "        for i, rec in enumerate(recommendations, 1):\n",
    "            print(f\"   {i}. {rec}\")\n",
    "        \n",
    "        print(\"=\"*60)\n",
    "        \n",
    "        return {\n",
    "            'predicted_rating': predicted_rating,\n",
    "            'risk_score': risk_score,\n",
    "            'risk_category': risk_category,\n",
    "            'recommendations': recommendations,\n",
    "            'location_data': location_data\n",
    "        }\n",
    "        \n",
    "    except Exception as e:\n",
    "        print(f\"❌ Error in risk assessment: {e}\")\n",
    "        return None\n",
    "\n",
    "print(\"✅ Interactive risk assessment function ready\")"
   ]
  },
  {
   "cell_type": "markdown",
   "id": "9ea3c69d",
   "metadata": {},
   "source": [
    "## Example Risk Assessments"
   ]
  },
  {
   "cell_type": "code",
   "execution_count": null,
   "id": "bcd9848c",
   "metadata": {},
   "outputs": [],
   "source": [
    "# Example 1: High-density urban area (like Coblong)\n",
    "print(\"Example 1: High-Density Urban Area\")\n",
    "result1 = assess_location_risk(\n",
    "    jumlah_penduduk=120000,\n",
    "    luas_wilayah=8.5,\n",
    "    kepadatan_jiwa=14000,\n",
    "    jumlah_fnb=85,\n",
    "    jumlah_taman=5,\n",
    "    avg_price=45000,\n",
    "    jumlah_shopping_place=15,\n",
    "    jumlah_universitas=3\n",
    ")"
   ]
  },
  {
   "cell_type": "code",
   "execution_count": null,
   "id": "da68b5b0",
   "metadata": {},
   "outputs": [],
   "source": [
    "# Example 2: Medium-density suburban area\n",
    "print(\"\\nExample 2: Medium-Density Suburban Area\")\n",
    "result2 = assess_location_risk(\n",
    "    jumlah_penduduk=75000,\n",
    "    luas_wilayah=12.0,\n",
    "    kepadatan_jiwa=6250,\n",
    "    jumlah_fnb=25,\n",
    "    jumlah_taman=8,\n",
    "    avg_price=35000,\n",
    "    jumlah_shopping_place=8,\n",
    "    jumlah_universitas=1\n",
    ")"
   ]
  },
  {
   "cell_type": "code",
   "execution_count": null,
   "id": "0f6a1ee0",
   "metadata": {},
   "outputs": [],
   "source": [
    "# Example 3: Low-density area with potential\n",
    "print(\"\\nExample 3: Low-Density Area with Growth Potential\")\n",
    "result3 = assess_location_risk(\n",
    "    jumlah_penduduk=45000,\n",
    "    luas_wilayah=15.0,\n",
    "    kepadatan_jiwa=3000,\n",
    "    jumlah_fnb=12,\n",
    "    jumlah_taman=6,\n",
    "    avg_price=28000,\n",
    "    jumlah_shopping_place=4,\n",
    "    jumlah_universitas=0\n",
    ")"
   ]
  },
  {
   "cell_type": "markdown",
   "id": "a0fa1c5a",
   "metadata": {},
   "source": [
    "## Save Risk Assessment System"
   ]
  },
  {
   "cell_type": "code",
   "execution_count": null,
   "id": "9283c1f3",
   "metadata": {},
   "outputs": [],
   "source": [
    "# Save the risk assessment results\n",
    "df_analysis[['kecamatan', 'avg_rating', 'predicted_rating', 'risk_score', 'risk_category']].to_csv(\n",
    "    '../results/location_risk_assessment.csv', index=False\n",
    ")\n",
    "\n",
    "# Save kecamatan-level analysis\n",
    "kecamatan_risk.to_csv('../results/kecamatan_risk_analysis.csv')\n",
    "\n",
    "# Create a comprehensive risk assessment guide\n",
    "guide = \"\"\"\n",
    "=== AI BUSINESS IMPACT PREDICTOR - USER GUIDE ===\n",
    "\n",
    "RISK SCORING SYSTEM:\n",
    "• LOW RISK (0.0-0.3): 🟢 Favorable conditions for F&B business\n",
    "• MEDIUM RISK (0.3-0.6): 🟡 Moderate challenges, manageable with good strategy\n",
    "• HIGH RISK (0.6-1.0): 🔴 Significant challenges, consider alternative locations\n",
    "\n",
    "KEY FACTORS ANALYZED:\n",
    "1. Predicted Business Rating (50% weight)\n",
    "2. Market Saturation - F&B per capita (30% weight)\n",
    "3. Competition Density - F&B per km² (20% weight)\n",
    "\n",
    "HOW TO USE:\n",
    "1. Gather location demographic data\n",
    "2. Use assess_location_risk() function\n",
    "3. Review predicted rating and risk score\n",
    "4. Follow tailored recommendations\n",
    "\n",
    "RECOMMENDATIONS COVER:\n",
    "• Food quality and service standards\n",
    "• Market positioning and differentiation\n",
    "• Pricing strategy\n",
    "• Marketing and branding\n",
    "• Target customer segments\n",
    "• Financial planning considerations\n",
    "\n",
    "For technical support or model updates, refer to the model development documentation.\n",
    "\"\"\"\n",
    "\n",
    "with open('../results/risk_assessment_guide.txt', 'w') as f:\n",
    "    f.write(guide)\n",
    "\n",
    "print(\"✅ Risk assessment system and documentation saved successfully!\")\n",
    "print(\"\\n📁 Files created:\")\n",
    "print(\"   • ../results/location_risk_assessment.csv\")\n",
    "print(\"   • ../results/kecamatan_risk_analysis.csv\")\n",
    "print(\"   • ../results/risk_assessment_guide.txt\")\n",
    "print(\"   • ../results/Risk_Analysis_Overview.png\")\n",
    "print(\"   • ../results/Kecamatan_Risk_Analysis.png\")"
   ]
  }
 ],
 "metadata": {
  "kernelspec": {
   "display_name": ".venv",
   "language": "python",
   "name": "python3"
  },
  "language_info": {
   "codemirror_mode": {
    "name": "ipython",
    "version": 3
   },
   "file_extension": ".py",
   "mimetype": "text/x-python",
   "name": "python",
   "nbconvert_exporter": "python",
   "pygments_lexer": "ipython3",
   "version": "3.13.3"
  }
 },
 "nbformat": 4,
 "nbformat_minor": 5
}
