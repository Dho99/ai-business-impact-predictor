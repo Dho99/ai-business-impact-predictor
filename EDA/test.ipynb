{
 "cells": [
  {
   "cell_type": "code",
   "execution_count": 160,
   "id": "3c87fde3",
   "metadata": {},
   "outputs": [
    {
     "name": "stdout",
     "output_type": "stream",
     "text": [
      "<class 'pandas.core.frame.DataFrame'>\n",
      "RangeIndex: 5439 entries, 0 to 5438\n",
      "Data columns (total 8 columns):\n",
      " #   Column       Non-Null Count  Dtype  \n",
      "---  ------       --------------  -----  \n",
      " 0   nama         5439 non-null   object \n",
      " 1   alamat       5439 non-null   object \n",
      " 2   kecamatan    5439 non-null   object \n",
      " 3   type         5439 non-null   object \n",
      " 4   latitude     323 non-null    float64\n",
      " 5   longitude    323 non-null    float64\n",
      " 6   tahun        5439 non-null   int64  \n",
      " 7   source_file  5439 non-null   object \n",
      "dtypes: float64(2), int64(1), object(5)\n",
      "memory usage: 340.1+ KB\n"
     ]
    }
   ],
   "source": [
    "import pandas as pd\n",
    "import numpy as np\n",
    "import seaborn as sns\n",
    "import matplotlib.pyplot as plt\n",
    "\n",
    "\n",
    "df = pd.read_csv('../datasets/combined_complete_data_only.csv')\n",
    "df_kepadatan_penduduk = pd.read_csv('../datasets/kepadatan_penduduk.csv')\n",
    "df_restaurant = pd.read_csv('../datasets/restaurant_dataset.csv')\n",
    "\n",
    "df_restaurant.drop(columns=['Unnamed: 0'], inplace=True)\n",
    "\n",
    "df.info()\n",
    "\n",
    "df = df.merge(df_kepadatan_penduduk, how='left')\n",
    "\n",
    "# df = df[df['type'] != 'restaurant']\n",
    "\n",
    "df.drop(columns=['latitude','longitude','tahun','source_file'], inplace=True)\n"
   ]
  },
  {
   "cell_type": "code",
   "execution_count": 161,
   "id": "f0aeb1c2",
   "metadata": {},
   "outputs": [],
   "source": [
    "df_restaurant = df_restaurant[['nama', 'alamat', 'kecamatan', 'google_rating', 'type']]\n",
    "df_restaurant = df_restaurant.rename(columns={'google_rating': 'rating'})\n",
    "\n"
   ]
  },
  {
   "cell_type": "code",
   "execution_count": 162,
   "id": "35379646",
   "metadata": {},
   "outputs": [
    {
     "name": "stdout",
     "output_type": "stream",
     "text": [
      "<class 'pandas.core.frame.DataFrame'>\n",
      "RangeIndex: 5439 entries, 0 to 5438\n",
      "Data columns (total 8 columns):\n",
      " #   Column           Non-Null Count  Dtype  \n",
      "---  ------           --------------  -----  \n",
      " 0   nama             5439 non-null   object \n",
      " 1   alamat           5439 non-null   object \n",
      " 2   kecamatan        5439 non-null   object \n",
      " 3   type             5439 non-null   object \n",
      " 4   Jumlah Penduduk  532 non-null    float64\n",
      " 5   Luas Wilayah     532 non-null    float64\n",
      " 6   Kepadatan Jiwa   532 non-null    float64\n",
      " 7   rating           0 non-null      float64\n",
      "dtypes: float64(4), object(4)\n",
      "memory usage: 340.1+ KB\n"
     ]
    }
   ],
   "source": [
    "df = df.merge(df_restaurant, how='left')\n",
    "\n",
    "df.info()\n",
    "df.to_csv('../temp/test.csv')"
   ]
  },
  {
   "cell_type": "code",
   "execution_count": null,
   "id": "4e019c4b",
   "metadata": {},
   "outputs": [],
   "source": []
  }
 ],
 "metadata": {
  "kernelspec": {
   "display_name": "Python 3",
   "language": "python",
   "name": "python3"
  },
  "language_info": {
   "codemirror_mode": {
    "name": "ipython",
    "version": 3
   },
   "file_extension": ".py",
   "mimetype": "text/x-python",
   "name": "python",
   "nbconvert_exporter": "python",
   "pygments_lexer": "ipython3",
   "version": "3.13.5"
  }
 },
 "nbformat": 4,
 "nbformat_minor": 5
}
