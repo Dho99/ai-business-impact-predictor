{
 "cells": [
  {
   "cell_type": "code",
   "execution_count": 97,
   "id": "3c87fde3",
   "metadata": {},
   "outputs": [],
   "source": [
    "import pandas as pd\n",
    "import numpy as np\n",
    "import seaborn as sns\n",
    "import matplotlib.pyplot as plt\n",
    "\n",
    "\n",
    "df = pd.read_csv('../datasets/combined_complete_data_only.csv')\n",
    "df_kepadatan_penduduk = pd.read_csv('../datasets/kepadatan_penduduk.csv')\n",
    "df_restaurant = pd.read_csv('../datasets/restaurant_dataset.csv')\n",
    "\n",
    "df_restaurant.drop(columns=['Unnamed: 0'], inplace=True)\n",
    "\n",
    "df = df.merge(df_kepadatan_penduduk, on='kecamatan', how='left')\n",
    "\n",
    "df = df[df['type'] != 'restaurant']\n",
    "\n",
    "df.drop(columns=['latitude','longitude','tahun','source_file'], inplace=True)\n"
   ]
  },
  {
   "cell_type": "code",
   "execution_count": null,
   "id": "f0aeb1c2",
   "metadata": {},
   "outputs": [
    {
     "data": {
      "text/html": [
       "<div>\n",
       "<style scoped>\n",
       "    .dataframe tbody tr th:only-of-type {\n",
       "        vertical-align: middle;\n",
       "    }\n",
       "\n",
       "    .dataframe tbody tr th {\n",
       "        vertical-align: top;\n",
       "    }\n",
       "\n",
       "    .dataframe thead th {\n",
       "        text-align: right;\n",
       "    }\n",
       "</style>\n",
       "<table border=\"1\" class=\"dataframe\">\n",
       "  <thead>\n",
       "    <tr style=\"text-align: right;\">\n",
       "      <th></th>\n",
       "      <th>nama</th>\n",
       "      <th>alamat</th>\n",
       "      <th>kecamatan</th>\n",
       "      <th>rating</th>\n",
       "      <th>type</th>\n",
       "    </tr>\n",
       "  </thead>\n",
       "  <tbody>\n",
       "    <tr>\n",
       "      <th>0</th>\n",
       "      <td>HOLLAND BAKERY UJUNGBERUNG</td>\n",
       "      <td>JL. A.H. NASUTION NO.63</td>\n",
       "      <td>ujung berung</td>\n",
       "      <td>4.6</td>\n",
       "      <td>restaurant</td>\n",
       "    </tr>\n",
       "    <tr>\n",
       "      <th>1</th>\n",
       "      <td>TRADITIONAL DELICIOUS AND HEALTHY FOOD</td>\n",
       "      <td>SUKAGALIH ROAD 200A</td>\n",
       "      <td>ujung berung</td>\n",
       "      <td>NaN</td>\n",
       "      <td>restaurant</td>\n",
       "    </tr>\n",
       "    <tr>\n",
       "      <th>2</th>\n",
       "      <td>SAMBALADO TASTE(DELIVERY MAKANAN HOT(</td>\n",
       "      <td>3PR2+3XX</td>\n",
       "      <td>ujung berung</td>\n",
       "      <td>5.0</td>\n",
       "      <td>restaurant</td>\n",
       "    </tr>\n",
       "    <tr>\n",
       "      <th>3</th>\n",
       "      <td>EMADO'S SHAWARMA UJUNGBERUNG</td>\n",
       "      <td>JL. A.H. NASUTION NO.111</td>\n",
       "      <td>ujung berung</td>\n",
       "      <td>4.4</td>\n",
       "      <td>restaurant</td>\n",
       "    </tr>\n",
       "    <tr>\n",
       "      <th>4</th>\n",
       "      <td>SWEET HEART II</td>\n",
       "      <td>LLRE MARTADINATA ST NO.140</td>\n",
       "      <td>sumur bandung</td>\n",
       "      <td>4.6</td>\n",
       "      <td>restaurant</td>\n",
       "    </tr>\n",
       "  </tbody>\n",
       "</table>\n",
       "</div>"
      ],
      "text/plain": [
       "                                     nama                      alamat  \\\n",
       "0              HOLLAND BAKERY UJUNGBERUNG     JL. A.H. NASUTION NO.63   \n",
       "1  TRADITIONAL DELICIOUS AND HEALTHY FOOD         SUKAGALIH ROAD 200A   \n",
       "2   SAMBALADO TASTE(DELIVERY MAKANAN HOT(                    3PR2+3XX   \n",
       "3            EMADO'S SHAWARMA UJUNGBERUNG    JL. A.H. NASUTION NO.111   \n",
       "4                          SWEET HEART II  LLRE MARTADINATA ST NO.140   \n",
       "\n",
       "       kecamatan  rating        type  \n",
       "0   ujung berung     4.6  restaurant  \n",
       "1   ujung berung     NaN  restaurant  \n",
       "2   ujung berung     5.0  restaurant  \n",
       "3   ujung berung     4.4  restaurant  \n",
       "4  sumur bandung     4.6  restaurant  "
      ]
     },
     "execution_count": 98,
     "metadata": {},
     "output_type": "execute_result"
    }
   ],
   "source": [
    "df_restaurant = df_restaurant[['nama', 'alamat', 'kecamatan', 'google_rating', 'type']]\n",
    "df_restaurant['type'] = 'restaurant'\n",
    "df_restaurant = df_restaurant.rename(columns={'google_rating': 'rating'})\n",
    "\n"
   ]
  },
  {
   "cell_type": "code",
   "execution_count": 102,
   "id": "35379646",
   "metadata": {},
   "outputs": [],
   "source": [
    "df = df.merge(df_restaurant, how='left')\n",
    "\n",
    "df_get_restaurant = df[df['type'] == 'restaurant']"
   ]
  },
  {
   "cell_type": "code",
   "execution_count": 103,
   "id": "2db633df",
   "metadata": {},
   "outputs": [
    {
     "data": {
      "text/html": [
       "<div>\n",
       "<style scoped>\n",
       "    .dataframe tbody tr th:only-of-type {\n",
       "        vertical-align: middle;\n",
       "    }\n",
       "\n",
       "    .dataframe tbody tr th {\n",
       "        vertical-align: top;\n",
       "    }\n",
       "\n",
       "    .dataframe thead th {\n",
       "        text-align: right;\n",
       "    }\n",
       "</style>\n",
       "<table border=\"1\" class=\"dataframe\">\n",
       "  <thead>\n",
       "    <tr style=\"text-align: right;\">\n",
       "      <th></th>\n",
       "      <th>nama</th>\n",
       "      <th>alamat</th>\n",
       "      <th>kecamatan</th>\n",
       "      <th>type</th>\n",
       "      <th>Jumlah Penduduk</th>\n",
       "      <th>Luas Wilayah</th>\n",
       "      <th>Kepadatan Jiwa</th>\n",
       "      <th>rating</th>\n",
       "    </tr>\n",
       "  </thead>\n",
       "  <tbody>\n",
       "  </tbody>\n",
       "</table>\n",
       "</div>"
      ],
      "text/plain": [
       "Empty DataFrame\n",
       "Columns: [nama, alamat, kecamatan, type, Jumlah Penduduk, Luas Wilayah, Kepadatan Jiwa, rating]\n",
       "Index: []"
      ]
     },
     "execution_count": 103,
     "metadata": {},
     "output_type": "execute_result"
    }
   ],
   "source": [
    "\n",
    "df_get_restaurant.tail()\n"
   ]
  },
  {
   "cell_type": "code",
   "execution_count": null,
   "id": "4e019c4b",
   "metadata": {},
   "outputs": [],
   "source": []
  }
 ],
 "metadata": {
  "kernelspec": {
   "display_name": "Python 3",
   "language": "python",
   "name": "python3"
  },
  "language_info": {
   "codemirror_mode": {
    "name": "ipython",
    "version": 3
   },
   "file_extension": ".py",
   "mimetype": "text/x-python",
   "name": "python",
   "nbconvert_exporter": "python",
   "pygments_lexer": "ipython3",
   "version": "3.13.5"
  }
 },
 "nbformat": 4,
 "nbformat_minor": 5
}
