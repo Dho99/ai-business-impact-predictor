{
 "cells": [
  {
   "cell_type": "markdown",
   "id": "5665cc06",
   "metadata": {},
   "source": [
    "# Menghapus data yang nilainya 0"
   ]
  },
  {
   "cell_type": "code",
   "execution_count": 13,
   "id": "88559b8f",
   "metadata": {},
   "outputs": [
    {
     "name": "stdout",
     "output_type": "stream",
     "text": [
      "Jumlah nilai 0 sebelum pembersihan:\n",
      "nama                       0\n",
      "alamat                     0\n",
      "kecamatan                  0\n",
      "google_rating              0\n",
      "price_range_rupiah         0\n",
      "business_status            0\n",
      "processed_at               0\n",
      "Jumlah Penduduk            1\n",
      "Luas Wilayah (km²)         0\n",
      "Kepadatan (jiwa/km²)       0\n",
      "jumlah_mall             2493\n",
      "jumlah_minimarket          1\n",
      "jumlah_taman              32\n",
      "dtype: int64\n",
      "Menghapus baris dengan nilai 0 pada kolom 'Jumlah Penduduk'.\n",
      "\n",
      "Jumlah nilai NULL setelah pembersihan:\n",
      "nama                       0\n",
      "alamat                     0\n",
      "kecamatan                  0\n",
      "google_rating              0\n",
      "price_range_rupiah      3373\n",
      "business_status            1\n",
      "processed_at               0\n",
      "Jumlah Penduduk            0\n",
      "Luas Wilayah (km²)         0\n",
      "Kepadatan (jiwa/km²)       0\n",
      "jumlah_mall                0\n",
      "jumlah_minimarket          0\n",
      "jumlah_taman               0\n",
      "dtype: int64\n"
     ]
    },
    {
     "name": "stderr",
     "output_type": "stream",
     "text": [
      "C:\\Users\\ridho\\AppData\\Local\\Temp\\ipykernel_18288\\763595639.py:20: FutureWarning: A value is trying to be set on a copy of a DataFrame or Series through chained assignment using an inplace method.\n",
      "The behavior will change in pandas 3.0. This inplace method will never work because the intermediate object on which we are setting values always behaves as a copy.\n",
      "\n",
      "For example, when doing 'df[col].method(value, inplace=True)', try using 'df.method({col: value}, inplace=True)' or df[col] = df[col].method(value) instead, to perform the operation inplace on the original object.\n",
      "\n",
      "\n",
      "  df[col].fillna(df[col].mean(), inplace=True)\n",
      "C:\\Users\\ridho\\AppData\\Local\\Temp\\ipykernel_18288\\763595639.py:20: FutureWarning: A value is trying to be set on a copy of a DataFrame or Series through chained assignment using an inplace method.\n",
      "The behavior will change in pandas 3.0. This inplace method will never work because the intermediate object on which we are setting values always behaves as a copy.\n",
      "\n",
      "For example, when doing 'df[col].method(value, inplace=True)', try using 'df.method({col: value}, inplace=True)' or df[col] = df[col].method(value) instead, to perform the operation inplace on the original object.\n",
      "\n",
      "\n",
      "  df[col].fillna(df[col].mean(), inplace=True)\n",
      "C:\\Users\\ridho\\AppData\\Local\\Temp\\ipykernel_18288\\763595639.py:20: FutureWarning: A value is trying to be set on a copy of a DataFrame or Series through chained assignment using an inplace method.\n",
      "The behavior will change in pandas 3.0. This inplace method will never work because the intermediate object on which we are setting values always behaves as a copy.\n",
      "\n",
      "For example, when doing 'df[col].method(value, inplace=True)', try using 'df.method({col: value}, inplace=True)' or df[col] = df[col].method(value) instead, to perform the operation inplace on the original object.\n",
      "\n",
      "\n",
      "  df[col].fillna(df[col].mean(), inplace=True)\n",
      "C:\\Users\\ridho\\AppData\\Local\\Temp\\ipykernel_18288\\763595639.py:20: FutureWarning: A value is trying to be set on a copy of a DataFrame or Series through chained assignment using an inplace method.\n",
      "The behavior will change in pandas 3.0. This inplace method will never work because the intermediate object on which we are setting values always behaves as a copy.\n",
      "\n",
      "For example, when doing 'df[col].method(value, inplace=True)', try using 'df.method({col: value}, inplace=True)' or df[col] = df[col].method(value) instead, to perform the operation inplace on the original object.\n",
      "\n",
      "\n",
      "  df[col].fillna(df[col].mean(), inplace=True)\n"
     ]
    }
   ],
   "source": [
    "import pandas as pd\n",
    "import numpy as np\n",
    "\n",
    "# Baca dataset\n",
    "df = pd.read_csv(\"../datasets/restaurant_dataset.csv\")\n",
    "\n",
    "print(\"Jumlah nilai 0 sebelum pembersihan:\")\n",
    "print((df == 0).sum())\n",
    "\n",
    "# Kolom yang ingin diperbaiki\n",
    "cols_to_fill = ['jumlah_mall', 'jumlah_minimarket', 'jumlah_taman', 'google_rating']\n",
    "\n",
    "# Ganti 0 menjadi NaN hanya di kolom yang ingin diisi\n",
    "df[cols_to_fill] = df[cols_to_fill].replace(0, np.nan)\n",
    "\n",
    "# Isi NaN berdasarkan rata-rata per kecamatan (jika kolom 'kecamatan' ada)\n",
    "for col in cols_to_fill:\n",
    "    df[col] = df.groupby('kecamatan')[col].transform(lambda x: x.fillna(x.mean()))\n",
    "    # Fallback ke rata-rata global jika masih ada NaN\n",
    "    df[col].fillna(df[col].mean(), inplace=True)\n",
    "\n",
    "# Hapus baris dengan nilai 0 di 'Jumlah Penduduk'\n",
    "if 'Jumlah Penduduk' in df.columns and (df['Jumlah Penduduk'] == 0).any():\n",
    "    print(\"Menghapus baris dengan nilai 0 pada kolom 'Jumlah Penduduk'.\")\n",
    "    df = df[df['Jumlah Penduduk'] != 0]\n",
    "\n",
    "# Cek apakah masih ada nilai null\n",
    "print(\"\\nJumlah nilai NULL setelah pembersihan:\")\n",
    "print(df.isnull().sum())\n",
    "\n",
    "# Simpan ke file baru\n",
    "df.to_csv(\"../datasets/restaurant_dataset_cleaned.csv\", index=False)\n"
   ]
  },
  {
   "cell_type": "code",
   "execution_count": null,
   "id": "e5365c0b",
   "metadata": {},
   "outputs": [
    {
     "data": {
      "text/plain": [
       "nama                       0\n",
       "alamat                     0\n",
       "kecamatan                  0\n",
       "google_rating              0\n",
       "price_range_rupiah      3373\n",
       "Jumlah Penduduk            0\n",
       "Luas Wilayah (km²)         0\n",
       "Kepadatan (jiwa/km²)       0\n",
       "jumlah_mall                0\n",
       "jumlah_minimarket          0\n",
       "jumlah_taman               0\n",
       "dtype: int64"
      ]
     },
     "execution_count": 14,
     "metadata": {},
     "output_type": "execute_result"
    }
   ],
   "source": [
    "df_clean = pd.read_csv(\"../datasets/restaurant_dataset_cleaned.csv\")\n",
    "\n",
    "df_clean.drop(columns=['business_status','processed_at'], inplace=True)\n",
    "\n",
    "df_clean.isna().sum()"
   ]
  },
  {
   "cell_type": "code",
   "execution_count": 24,
   "id": "bc726a60",
   "metadata": {},
   "outputs": [
    {
     "data": {
      "text/plain": [
       "0       False\n",
       "1        True\n",
       "2        True\n",
       "3       False\n",
       "4       False\n",
       "        ...  \n",
       "5111    False\n",
       "5112    False\n",
       "5113    False\n",
       "5114    False\n",
       "5115     True\n",
       "Name: price_range_rupiah, Length: 5115, dtype: bool"
      ]
     },
     "execution_count": 24,
     "metadata": {},
     "output_type": "execute_result"
    }
   ],
   "source": [
    "df_price_range = df['price_range_rupiah']\n",
    "\n",
    "df_price_range.isna()\n",
    "\n",
    "# df_clean.info()"
   ]
  },
  {
   "cell_type": "code",
   "execution_count": null,
   "id": "2d3af23a",
   "metadata": {},
   "outputs": [],
   "source": []
  }
 ],
 "metadata": {
  "kernelspec": {
   "display_name": "Python 3",
   "language": "python",
   "name": "python3"
  },
  "language_info": {
   "codemirror_mode": {
    "name": "ipython",
    "version": 3
   },
   "file_extension": ".py",
   "mimetype": "text/x-python",
   "name": "python",
   "nbconvert_exporter": "python",
   "pygments_lexer": "ipython3",
   "version": "3.13.5"
  }
 },
 "nbformat": 4,
 "nbformat_minor": 5
}
