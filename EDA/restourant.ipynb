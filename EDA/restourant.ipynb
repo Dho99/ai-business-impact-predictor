{
 "cells": [
  {
   "cell_type": "markdown",
   "id": "5665cc06",
   "metadata": {},
   "source": [
    "# Menghapus data yang nilainya 0"
   ]
  },
  {
   "cell_type": "code",
   "execution_count": 50,
   "id": "88559b8f",
   "metadata": {},
   "outputs": [
    {
     "name": "stdout",
     "output_type": "stream",
     "text": [
      "Jumlah nilai 0 sebelum pembersihan:\n",
      "nama                       0\n",
      "alamat                     0\n",
      "kecamatan                  0\n",
      "google_rating              0\n",
      "price_range_rupiah         0\n",
      "business_status            0\n",
      "processed_at               0\n",
      "Jumlah Penduduk            1\n",
      "Luas Wilayah (km²)         0\n",
      "Kepadatan (jiwa/km²)       0\n",
      "jumlah_mall             2493\n",
      "jumlah_minimarket          1\n",
      "jumlah_taman              32\n",
      "dtype: int64\n",
      "Menghapus baris dengan nilai 0 pada kolom 'Jumlah Penduduk'.\n",
      "\n",
      "Jumlah nilai NULL setelah pembersihan:\n",
      "nama                       0\n",
      "alamat                     0\n",
      "kecamatan                  0\n",
      "google_rating              0\n",
      "price_range_rupiah      3373\n",
      "business_status            1\n",
      "processed_at               0\n",
      "Jumlah Penduduk            0\n",
      "Luas Wilayah (km²)         0\n",
      "Kepadatan (jiwa/km²)       0\n",
      "jumlah_mall                0\n",
      "jumlah_minimarket          0\n",
      "jumlah_taman               0\n",
      "dtype: int64\n"
     ]
    },
    {
     "name": "stderr",
     "output_type": "stream",
     "text": [
      "C:\\Users\\ACER NITRO\\AppData\\Local\\Temp\\ipykernel_23232\\763595639.py:20: FutureWarning: A value is trying to be set on a copy of a DataFrame or Series through chained assignment using an inplace method.\n",
      "The behavior will change in pandas 3.0. This inplace method will never work because the intermediate object on which we are setting values always behaves as a copy.\n",
      "\n",
      "For example, when doing 'df[col].method(value, inplace=True)', try using 'df.method({col: value}, inplace=True)' or df[col] = df[col].method(value) instead, to perform the operation inplace on the original object.\n",
      "\n",
      "\n",
      "  df[col].fillna(df[col].mean(), inplace=True)\n",
      "C:\\Users\\ACER NITRO\\AppData\\Local\\Temp\\ipykernel_23232\\763595639.py:20: FutureWarning: A value is trying to be set on a copy of a DataFrame or Series through chained assignment using an inplace method.\n",
      "The behavior will change in pandas 3.0. This inplace method will never work because the intermediate object on which we are setting values always behaves as a copy.\n",
      "\n",
      "For example, when doing 'df[col].method(value, inplace=True)', try using 'df.method({col: value}, inplace=True)' or df[col] = df[col].method(value) instead, to perform the operation inplace on the original object.\n",
      "\n",
      "\n",
      "  df[col].fillna(df[col].mean(), inplace=True)\n",
      "C:\\Users\\ACER NITRO\\AppData\\Local\\Temp\\ipykernel_23232\\763595639.py:20: FutureWarning: A value is trying to be set on a copy of a DataFrame or Series through chained assignment using an inplace method.\n",
      "The behavior will change in pandas 3.0. This inplace method will never work because the intermediate object on which we are setting values always behaves as a copy.\n",
      "\n",
      "For example, when doing 'df[col].method(value, inplace=True)', try using 'df.method({col: value}, inplace=True)' or df[col] = df[col].method(value) instead, to perform the operation inplace on the original object.\n",
      "\n",
      "\n",
      "  df[col].fillna(df[col].mean(), inplace=True)\n",
      "C:\\Users\\ACER NITRO\\AppData\\Local\\Temp\\ipykernel_23232\\763595639.py:20: FutureWarning: A value is trying to be set on a copy of a DataFrame or Series through chained assignment using an inplace method.\n",
      "The behavior will change in pandas 3.0. This inplace method will never work because the intermediate object on which we are setting values always behaves as a copy.\n",
      "\n",
      "For example, when doing 'df[col].method(value, inplace=True)', try using 'df.method({col: value}, inplace=True)' or df[col] = df[col].method(value) instead, to perform the operation inplace on the original object.\n",
      "\n",
      "\n",
      "  df[col].fillna(df[col].mean(), inplace=True)\n"
     ]
    }
   ],
   "source": [
    "import pandas as pd\n",
    "import numpy as np\n",
    "\n",
    "# Baca dataset\n",
    "df = pd.read_csv(\"../datasets/restaurant_dataset.csv\")\n",
    "\n",
    "print(\"Jumlah nilai 0 sebelum pembersihan:\")\n",
    "print((df == 0).sum())\n",
    "\n",
    "# Kolom yang ingin diperbaiki\n",
    "cols_to_fill = ['jumlah_mall', 'jumlah_minimarket', 'jumlah_taman', 'google_rating']\n",
    "\n",
    "# Ganti 0 menjadi NaN hanya di kolom yang ingin diisi\n",
    "df[cols_to_fill] = df[cols_to_fill].replace(0, np.nan)\n",
    "\n",
    "# Isi NaN berdasarkan rata-rata per kecamatan (jika kolom 'kecamatan' ada)\n",
    "for col in cols_to_fill:\n",
    "    df[col] = df.groupby('kecamatan')[col].transform(lambda x: x.fillna(x.mean()))\n",
    "    # Fallback ke rata-rata global jika masih ada NaN\n",
    "    df[col].fillna(df[col].mean(), inplace=True)\n",
    "\n",
    "# Hapus baris dengan nilai 0 di 'Jumlah Penduduk'\n",
    "if 'Jumlah Penduduk' in df.columns and (df['Jumlah Penduduk'] == 0).any():\n",
    "    print(\"Menghapus baris dengan nilai 0 pada kolom 'Jumlah Penduduk'.\")\n",
    "    df = df[df['Jumlah Penduduk'] != 0]\n",
    "\n",
    "# Cek apakah masih ada nilai null\n",
    "print(\"\\nJumlah nilai NULL setelah pembersihan:\")\n",
    "print(df.isnull().sum())\n",
    "\n",
    "# Simpan ke file baru\n",
    "df.to_csv(\"../datasets/restaurant_dataset_cleaned.csv\", index=False)\n"
   ]
  },
  {
   "cell_type": "code",
   "execution_count": 51,
   "id": "e5365c0b",
   "metadata": {},
   "outputs": [
    {
     "data": {
      "text/plain": [
       "nama                       0\n",
       "alamat                     0\n",
       "kecamatan                  0\n",
       "google_rating              0\n",
       "price_range_rupiah      3373\n",
       "business_status            1\n",
       "processed_at               0\n",
       "Jumlah Penduduk            0\n",
       "Luas Wilayah (km²)         0\n",
       "Kepadatan (jiwa/km²)       0\n",
       "jumlah_mall                0\n",
       "jumlah_minimarket          0\n",
       "jumlah_taman               0\n",
       "dtype: int64"
      ]
     },
     "execution_count": 51,
     "metadata": {},
     "output_type": "execute_result"
    }
   ],
   "source": [
    "df_clean = pd.read_csv(\"../datasets/restaurant_dataset_cleaned.csv\")\n",
    "\n",
    "df_clean.isna().sum()"
   ]
  },
  {
   "cell_type": "code",
   "execution_count": 53,
   "id": "bc726a60",
   "metadata": {},
   "outputs": [
    {
     "name": "stdout",
     "output_type": "stream",
     "text": [
      "<class 'pandas.core.frame.DataFrame'>\n",
      "RangeIndex: 5115 entries, 0 to 5114\n",
      "Data columns (total 13 columns):\n",
      " #   Column                Non-Null Count  Dtype  \n",
      "---  ------                --------------  -----  \n",
      " 0   nama                  5115 non-null   object \n",
      " 1   alamat                5115 non-null   object \n",
      " 2   kecamatan             5115 non-null   object \n",
      " 3   google_rating         5115 non-null   float64\n",
      " 4   price_range_rupiah    1742 non-null   object \n",
      " 5   business_status       5114 non-null   object \n",
      " 6   processed_at          5115 non-null   object \n",
      " 7   Jumlah Penduduk       5115 non-null   float64\n",
      " 8   Luas Wilayah (km²)    5115 non-null   float64\n",
      " 9   Kepadatan (jiwa/km²)  5115 non-null   float64\n",
      " 10  jumlah_mall           5115 non-null   float64\n",
      " 11  jumlah_minimarket     5115 non-null   float64\n",
      " 12  jumlah_taman          5115 non-null   float64\n",
      "dtypes: float64(7), object(6)\n",
      "memory usage: 519.6+ KB\n"
     ]
    }
   ],
   "source": [
    "df_clean.info()"
   ]
  }
 ],
 "metadata": {
  "kernelspec": {
   "display_name": ".venv",
   "language": "python",
   "name": "python3"
  },
  "language_info": {
   "codemirror_mode": {
    "name": "ipython",
    "version": 3
   },
   "file_extension": ".py",
   "mimetype": "text/x-python",
   "name": "python",
   "nbconvert_exporter": "python",
   "pygments_lexer": "ipython3",
   "version": "3.13.3"
  }
 },
 "nbformat": 4,
 "nbformat_minor": 5
}
