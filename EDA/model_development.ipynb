{
 "cells": [
  {
   "cell_type": "markdown",
   "id": "c25cd53e",
   "metadata": {},
   "source": [
    "# Model Development for AI Business Impact Predictor\n",
    "\n",
    "This notebook focuses on developing machine learning models to predict business success/ratings based on location and demographic features."
   ]
  },
  {
   "cell_type": "markdown",
   "id": "e874fcb0",
   "metadata": {},
   "source": [
    "## Import Libraries"
   ]
  },
  {
   "cell_type": "code",
   "execution_count": 1,
   "id": "6dad768a",
   "metadata": {},
   "outputs": [],
   "source": [
    "import pandas as pd\n",
    "import numpy as np\n",
    "import matplotlib.pyplot as plt\n",
    "import seaborn as sns\n",
    "from sklearn.model_selection import train_test_split, cross_val_score, GridSearchCV\n",
    "from sklearn.preprocessing import StandardScaler, LabelEncoder\n",
    "from sklearn.ensemble import RandomForestRegressor, GradientBoostingRegressor\n",
    "from sklearn.linear_model import LinearRegression, Ridge, Lasso\n",
    "from sklearn.metrics import mean_absolute_error, mean_squared_error, r2_score\n",
    "from sklearn.tree import DecisionTreeRegressor\n",
    "import xgboost as xgb\n",
    "import joblib\n",
    "import warnings\n",
    "warnings.filterwarnings('ignore')"
   ]
  },
  {
   "cell_type": "markdown",
   "id": "5e2665d5",
   "metadata": {},
   "source": [
    "## Load and Prepare Data"
   ]
  },
  {
   "cell_type": "code",
   "execution_count": 2,
   "id": "2b3b3d7b",
   "metadata": {},
   "outputs": [
    {
     "name": "stdout",
     "output_type": "stream",
     "text": [
      "Dataset shape: (30, 9)\n",
      "\n",
      "Dataset info:\n",
      "<class 'pandas.core.frame.DataFrame'>\n",
      "RangeIndex: 30 entries, 0 to 29\n",
      "Data columns (total 9 columns):\n",
      " #   Column           Non-Null Count  Dtype  \n",
      "---  ------           --------------  -----  \n",
      " 0   kecamatan        30 non-null     object \n",
      " 1   jumlah_fnb       30 non-null     int64  \n",
      " 2   avg_rating       30 non-null     float64\n",
      " 3   jumlah_taman     30 non-null     float64\n",
      " 4   avg_price        30 non-null     float64\n",
      " 5   Jumlah Penduduk  30 non-null     float64\n",
      " 6   Luas Wilayah     30 non-null     float64\n",
      " 7   Kepadatan Jiwa   30 non-null     float64\n",
      " 8   jumlah_kampus    30 non-null     int64  \n",
      "dtypes: float64(6), int64(2), object(1)\n",
      "memory usage: 2.2+ KB\n"
     ]
    }
   ],
   "source": [
    "# Load the final training dataset\n",
    "df = pd.read_csv('../datasets/final_training_dataset.csv')\n",
    "print(f\"Dataset shape: {df.shape}\")\n",
    "print(f\"\\nDataset info:\")\n",
    "df.info()"
   ]
  },
  {
   "cell_type": "code",
   "execution_count": 3,
   "id": "05c307ff",
   "metadata": {},
   "outputs": [
    {
     "data": {
      "text/html": [
       "<div>\n",
       "<style scoped>\n",
       "    .dataframe tbody tr th:only-of-type {\n",
       "        vertical-align: middle;\n",
       "    }\n",
       "\n",
       "    .dataframe tbody tr th {\n",
       "        vertical-align: top;\n",
       "    }\n",
       "\n",
       "    .dataframe thead th {\n",
       "        text-align: right;\n",
       "    }\n",
       "</style>\n",
       "<table border=\"1\" class=\"dataframe\">\n",
       "  <thead>\n",
       "    <tr style=\"text-align: right;\">\n",
       "      <th></th>\n",
       "      <th>jumlah_fnb</th>\n",
       "      <th>avg_rating</th>\n",
       "      <th>jumlah_taman</th>\n",
       "      <th>avg_price</th>\n",
       "      <th>Jumlah Penduduk</th>\n",
       "      <th>Luas Wilayah</th>\n",
       "      <th>Kepadatan Jiwa</th>\n",
       "      <th>jumlah_kampus</th>\n",
       "    </tr>\n",
       "  </thead>\n",
       "  <tbody>\n",
       "    <tr>\n",
       "      <th>count</th>\n",
       "      <td>30.000000</td>\n",
       "      <td>30.00000</td>\n",
       "      <td>30.000000</td>\n",
       "      <td>30.000000</td>\n",
       "      <td>30.000000</td>\n",
       "      <td>30.000000</td>\n",
       "      <td>30.000000</td>\n",
       "      <td>30.000000</td>\n",
       "    </tr>\n",
       "    <tr>\n",
       "      <th>mean</th>\n",
       "      <td>170.500000</td>\n",
       "      <td>4.52600</td>\n",
       "      <td>33.300000</td>\n",
       "      <td>67939.776667</td>\n",
       "      <td>84348.266667</td>\n",
       "      <td>5.682667</td>\n",
       "      <td>15972.465000</td>\n",
       "      <td>4.300000</td>\n",
       "    </tr>\n",
       "    <tr>\n",
       "      <th>std</th>\n",
       "      <td>190.733204</td>\n",
       "      <td>0.06719</td>\n",
       "      <td>26.986778</td>\n",
       "      <td>6636.589603</td>\n",
       "      <td>31579.014031</td>\n",
       "      <td>1.715801</td>\n",
       "      <td>7628.929288</td>\n",
       "      <td>4.086563</td>\n",
       "    </tr>\n",
       "    <tr>\n",
       "      <th>min</th>\n",
       "      <td>12.000000</td>\n",
       "      <td>4.41000</td>\n",
       "      <td>0.000000</td>\n",
       "      <td>53750.000000</td>\n",
       "      <td>25585.000000</td>\n",
       "      <td>2.680000</td>\n",
       "      <td>4224.000000</td>\n",
       "      <td>0.000000</td>\n",
       "    </tr>\n",
       "    <tr>\n",
       "      <th>25%</th>\n",
       "      <td>60.000000</td>\n",
       "      <td>4.48250</td>\n",
       "      <td>15.000000</td>\n",
       "      <td>63150.920000</td>\n",
       "      <td>70746.500000</td>\n",
       "      <td>4.347500</td>\n",
       "      <td>11192.187500</td>\n",
       "      <td>1.000000</td>\n",
       "    </tr>\n",
       "    <tr>\n",
       "      <th>50%</th>\n",
       "      <td>95.000000</td>\n",
       "      <td>4.52500</td>\n",
       "      <td>26.000000</td>\n",
       "      <td>69011.660000</td>\n",
       "      <td>80569.500000</td>\n",
       "      <td>5.365000</td>\n",
       "      <td>14871.010000</td>\n",
       "      <td>3.500000</td>\n",
       "    </tr>\n",
       "    <tr>\n",
       "      <th>75%</th>\n",
       "      <td>180.750000</td>\n",
       "      <td>4.56000</td>\n",
       "      <td>44.750000</td>\n",
       "      <td>71624.165000</td>\n",
       "      <td>104092.000000</td>\n",
       "      <td>6.995000</td>\n",
       "      <td>19623.400000</td>\n",
       "      <td>6.000000</td>\n",
       "    </tr>\n",
       "    <tr>\n",
       "      <th>max</th>\n",
       "      <td>817.000000</td>\n",
       "      <td>4.67000</td>\n",
       "      <td>117.000000</td>\n",
       "      <td>79710.140000</td>\n",
       "      <td>143651.000000</td>\n",
       "      <td>9.960000</td>\n",
       "      <td>39847.120000</td>\n",
       "      <td>16.000000</td>\n",
       "    </tr>\n",
       "  </tbody>\n",
       "</table>\n",
       "</div>"
      ],
      "text/plain": [
       "       jumlah_fnb  avg_rating  jumlah_taman     avg_price  Jumlah Penduduk  \\\n",
       "count   30.000000    30.00000     30.000000     30.000000        30.000000   \n",
       "mean   170.500000     4.52600     33.300000  67939.776667     84348.266667   \n",
       "std    190.733204     0.06719     26.986778   6636.589603     31579.014031   \n",
       "min     12.000000     4.41000      0.000000  53750.000000     25585.000000   \n",
       "25%     60.000000     4.48250     15.000000  63150.920000     70746.500000   \n",
       "50%     95.000000     4.52500     26.000000  69011.660000     80569.500000   \n",
       "75%    180.750000     4.56000     44.750000  71624.165000    104092.000000   \n",
       "max    817.000000     4.67000    117.000000  79710.140000    143651.000000   \n",
       "\n",
       "       Luas Wilayah  Kepadatan Jiwa  jumlah_kampus  \n",
       "count     30.000000       30.000000      30.000000  \n",
       "mean       5.682667    15972.465000       4.300000  \n",
       "std        1.715801     7628.929288       4.086563  \n",
       "min        2.680000     4224.000000       0.000000  \n",
       "25%        4.347500    11192.187500       1.000000  \n",
       "50%        5.365000    14871.010000       3.500000  \n",
       "75%        6.995000    19623.400000       6.000000  \n",
       "max        9.960000    39847.120000      16.000000  "
      ]
     },
     "execution_count": 3,
     "metadata": {},
     "output_type": "execute_result"
    }
   ],
   "source": [
    "# Display basic statistics\n",
    "df.describe()"
   ]
  },
  {
   "cell_type": "code",
   "execution_count": 4,
   "id": "4f042775",
   "metadata": {},
   "outputs": [
    {
     "name": "stdout",
     "output_type": "stream",
     "text": [
      "Actual columns in dataset:\n",
      "['kecamatan', 'jumlah_fnb', 'avg_rating', 'jumlah_taman', 'avg_price', 'Jumlah Penduduk', 'Luas Wilayah', 'Kepadatan Jiwa', 'jumlah_kampus']\n",
      "\n",
      "Dataset shape: (30, 9)\n",
      "\n",
      "First few rows:\n",
      "       kecamatan  jumlah_fnb  avg_rating  jumlah_taman  avg_price  \\\n",
      "0        coblong         534        4.56          37.0   65315.53   \n",
      "1       sukasari         174        4.53          23.0   69800.00   \n",
      "2        cicendo         289        4.49          46.0   76875.00   \n",
      "3  bandung wetan         817        4.51         117.0   75000.00   \n",
      "4          regol         138        4.43          15.0   67608.70   \n",
      "\n",
      "   Jumlah Penduduk  Luas Wilayah  Kepadatan Jiwa  jumlah_kampus  \n",
      "0         115273.0          7.31        15769.22             16  \n",
      "1          77576.0          6.36        12197.48              6  \n",
      "2          96382.0          7.79        12372.53             10  \n",
      "3          28848.0          3.44         8386.05              8  \n",
      "4          80609.0          4.74        17006.12              1  \n"
     ]
    }
   ],
   "source": [
    "# Check actual columns in the dataset\n",
    "print(\"Actual columns in dataset:\")\n",
    "print(df.columns.tolist())\n",
    "print(f\"\\nDataset shape: {df.shape}\")\n",
    "print(f\"\\nFirst few rows:\")\n",
    "print(df.head())"
   ]
  },
  {
   "cell_type": "markdown",
   "id": "583bea04",
   "metadata": {},
   "source": [
    "## Feature Engineering (Additional)"
   ]
  },
  {
   "cell_type": "code",
   "execution_count": 5,
   "id": "ce971ac9",
   "metadata": {},
   "outputs": [
    {
     "name": "stdout",
     "output_type": "stream",
     "text": [
      "Creating engineered features...\n",
      "Missing values before handling:\n",
      "kecamatan               0\n",
      "jumlah_fnb              0\n",
      "avg_rating              0\n",
      "jumlah_taman            0\n",
      "avg_price               0\n",
      "Jumlah Penduduk         0\n",
      "Luas Wilayah            0\n",
      "Kepadatan Jiwa          0\n",
      "jumlah_kampus           0\n",
      "fnb_per_capita          0\n",
      "fnb_per_km2             0\n",
      "taman_per_capita        0\n",
      "kampus_per_capita       0\n",
      "density_category        0\n",
      "price_category          0\n",
      "density_category_num    0\n",
      "price_category_num      0\n",
      "dtype: int64\n",
      "\n",
      "Missing values after handling:\n",
      "kecamatan               0\n",
      "jumlah_fnb              0\n",
      "avg_rating              0\n",
      "jumlah_taman            0\n",
      "avg_price               0\n",
      "Jumlah Penduduk         0\n",
      "Luas Wilayah            0\n",
      "Kepadatan Jiwa          0\n",
      "jumlah_kampus           0\n",
      "fnb_per_capita          0\n",
      "fnb_per_km2             0\n",
      "taman_per_capita        0\n",
      "kampus_per_capita       0\n",
      "density_category        0\n",
      "price_category          0\n",
      "density_category_num    0\n",
      "price_category_num      0\n",
      "dtype: int64\n",
      "\n",
      "Infinite values check:\n",
      "Series([], dtype: int64)\n",
      "\n",
      "New features created:\n",
      "- fnb_per_capita: range [0.000242, 0.028321]\n",
      "- fnb_per_km2: range [2.823529, 237.499999]\n",
      "- taman_per_capita: range [0.000000, 0.004056]\n",
      "- kampus_per_capita: range [0.000000, 0.000277]\n",
      "- density_category_num: range [0.000000, 2.000000]\n",
      "- price_category_num: range [0.000000, 2.000000]\n",
      "\n",
      "Final dataset shape: (30, 17)\n"
     ]
    }
   ],
   "source": [
    "# Create additional features using actual column names with safe division\n",
    "print(\"Creating engineered features...\")\n",
    "\n",
    "# Create derived features with safe division to avoid infinity\n",
    "# Add small epsilon to avoid division by zero\n",
    "epsilon = 1e-8\n",
    "\n",
    "df['fnb_per_capita'] = df['jumlah_fnb'] / (df['Jumlah Penduduk'] + epsilon)\n",
    "df['fnb_per_km2'] = df['jumlah_fnb'] / (df['Luas Wilayah'] + epsilon)\n",
    "df['taman_per_capita'] = df['jumlah_taman'] / (df['Jumlah Penduduk'] + epsilon)\n",
    "df['kampus_per_capita'] = df['jumlah_kampus'] / (df['Jumlah Penduduk'] + epsilon)\n",
    "\n",
    "# Create population density categories for additional features\n",
    "df['density_category'] = pd.cut(df['Kepadatan Jiwa'], bins=3, labels=['Low', 'Medium', 'High'])\n",
    "df['price_category'] = pd.cut(df['avg_price'], bins=3, labels=['Low', 'Medium', 'High'])\n",
    "\n",
    "# Convert categorical variables to numeric\n",
    "from sklearn.preprocessing import LabelEncoder\n",
    "le_density = LabelEncoder()\n",
    "le_price = LabelEncoder()\n",
    "\n",
    "df['density_category_num'] = le_density.fit_transform(df['density_category'])\n",
    "df['price_category_num'] = le_price.fit_transform(df['price_category'])\n",
    "\n",
    "# Handle missing values and infinite values\n",
    "print(\"Missing values before handling:\")\n",
    "print(df.isnull().sum())\n",
    "\n",
    "# Replace infinite values with NaN first\n",
    "df.replace([np.inf, -np.inf], np.nan, inplace=True)\n",
    "\n",
    "# Fill missing values with median\n",
    "df.fillna(df.median(numeric_only=True), inplace=True)\n",
    "\n",
    "print(\"\\nMissing values after handling:\")\n",
    "print(df.isnull().sum())\n",
    "\n",
    "# Check for infinite values\n",
    "numeric_cols = df.select_dtypes(include=[np.number]).columns\n",
    "inf_check = np.isinf(df[numeric_cols]).sum()\n",
    "print(f\"\\nInfinite values check:\")\n",
    "print(inf_check[inf_check > 0])\n",
    "\n",
    "print(\"\\nNew features created:\")\n",
    "new_features = ['fnb_per_capita', 'fnb_per_km2', 'taman_per_capita', 'kampus_per_capita', \n",
    "                'density_category_num', 'price_category_num']\n",
    "for feature in new_features:\n",
    "    print(f\"- {feature}: range [{df[feature].min():.6f}, {df[feature].max():.6f}]\")\n",
    "\n",
    "print(f\"\\nFinal dataset shape: {df.shape}\")"
   ]
  },
  {
   "cell_type": "markdown",
   "id": "1a35aae3",
   "metadata": {},
   "source": [
    "## Prepare Features and Target"
   ]
  },
  {
   "cell_type": "code",
   "execution_count": 6,
   "id": "bdeb320f",
   "metadata": {},
   "outputs": [
    {
     "name": "stdout",
     "output_type": "stream",
     "text": [
      "Preparing features and target...\n",
      "Features used: ['jumlah_fnb', 'jumlah_taman', 'avg_price', 'Jumlah Penduduk', 'Luas Wilayah', 'Kepadatan Jiwa', 'jumlah_kampus', 'fnb_per_capita', 'fnb_per_km2', 'taman_per_capita', 'kampus_per_capita', 'density_category_num', 'price_category_num']\n",
      "Feature matrix shape: (30, 13)\n",
      "Target vector shape: (30,)\n",
      "\n",
      "Missing values in features:\n",
      "jumlah_fnb              0\n",
      "jumlah_taman            0\n",
      "avg_price               0\n",
      "Jumlah Penduduk         0\n",
      "Luas Wilayah            0\n",
      "Kepadatan Jiwa          0\n",
      "jumlah_kampus           0\n",
      "fnb_per_capita          0\n",
      "fnb_per_km2             0\n",
      "taman_per_capita        0\n",
      "kampus_per_capita       0\n",
      "density_category_num    0\n",
      "price_category_num      0\n",
      "dtype: int64\n",
      "Missing values in target: 0\n",
      "\n",
      "Feature statistics:\n",
      "       jumlah_fnb  jumlah_taman     avg_price  Jumlah Penduduk  Luas Wilayah  \\\n",
      "count   30.000000     30.000000     30.000000        30.000000     30.000000   \n",
      "mean   170.500000     33.300000  67939.776667     84348.266667      5.682667   \n",
      "std    190.733204     26.986778   6636.589603     31579.014031      1.715801   \n",
      "min     12.000000      0.000000  53750.000000     25585.000000      2.680000   \n",
      "25%     60.000000     15.000000  63150.920000     70746.500000      4.347500   \n",
      "50%     95.000000     26.000000  69011.660000     80569.500000      5.365000   \n",
      "75%    180.750000     44.750000  71624.165000    104092.000000      6.995000   \n",
      "max    817.000000    117.000000  79710.140000    143651.000000      9.960000   \n",
      "\n",
      "       Kepadatan Jiwa  jumlah_kampus  fnb_per_capita  fnb_per_km2  \\\n",
      "count       30.000000      30.000000       30.000000    30.000000   \n",
      "mean     15972.465000       4.300000        0.002853    35.668847   \n",
      "std       7628.929288       4.086563        0.005541    49.882034   \n",
      "min       4224.000000       0.000000        0.000242     2.823529   \n",
      "25%      11192.187500       1.000000        0.000655     8.087127   \n",
      "50%      14871.010000       3.500000        0.001093    20.393855   \n",
      "75%      19623.400000       6.000000        0.002344    36.875858   \n",
      "max      39847.120000      16.000000        0.028321   237.499999   \n",
      "\n",
      "       taman_per_capita  kampus_per_capita  density_category_num  \\\n",
      "count         30.000000          30.000000             30.000000   \n",
      "mean           0.000519           0.000059              1.333333   \n",
      "std            0.000745           0.000064              0.546672   \n",
      "min            0.000000           0.000000              0.000000   \n",
      "25%            0.000149           0.000012              1.000000   \n",
      "50%            0.000283           0.000051              1.000000   \n",
      "75%            0.000577           0.000082              2.000000   \n",
      "max            0.004056           0.000277              2.000000   \n",
      "\n",
      "       price_category_num  \n",
      "count           30.000000  \n",
      "mean             1.200000  \n",
      "std              0.886683  \n",
      "min              0.000000  \n",
      "25%              0.000000  \n",
      "50%              1.500000  \n",
      "75%              2.000000  \n",
      "max              2.000000  \n"
     ]
    }
   ],
   "source": [
    "# Define features and target using actual column names\n",
    "print(\"Preparing features and target...\")\n",
    "\n",
    "# Exclude non-predictive columns\n",
    "exclude_cols = ['kecamatan', 'density_category', 'price_category']  # Exclude categorical string columns\n",
    "feature_cols = [col for col in df.columns if col not in exclude_cols + ['avg_rating']]\n",
    "\n",
    "# Ensure we only use numeric features\n",
    "numeric_features = df[feature_cols].select_dtypes(include=[np.number]).columns.tolist()\n",
    "\n",
    "X = df[numeric_features]\n",
    "y = df['avg_rating']\n",
    "\n",
    "print(f\"Features used: {numeric_features}\")\n",
    "print(f\"Feature matrix shape: {X.shape}\")\n",
    "print(f\"Target vector shape: {y.shape}\")\n",
    "\n",
    "# Check for any remaining missing values\n",
    "print(f\"\\nMissing values in features:\")\n",
    "print(X.isnull().sum())\n",
    "print(f\"Missing values in target: {y.isnull().sum()}\")\n",
    "\n",
    "# Display feature statistics\n",
    "print(f\"\\nFeature statistics:\")\n",
    "print(X.describe())"
   ]
  },
  {
   "cell_type": "markdown",
   "id": "d6dfc1fa",
   "metadata": {},
   "source": [
    "## Data Splitting"
   ]
  },
  {
   "cell_type": "code",
   "execution_count": 7,
   "id": "4267bb07",
   "metadata": {},
   "outputs": [
    {
     "name": "stdout",
     "output_type": "stream",
     "text": [
      "Total samples: 30\n",
      "Small dataset detected. Using modified splitting strategy...\n",
      "Training set: (24, 13)\n",
      "Validation set (same as training): (24, 13)\n",
      "Test set: (6, 13)\n",
      "\n",
      "Note: Due to small dataset size, we'll rely on cross-validation for model evaluation.\n"
     ]
    }
   ],
   "source": [
    "# Split the data - using smaller test size due to limited data\n",
    "print(f\"Total samples: {len(X)}\")\n",
    "\n",
    "if len(X) < 50:\n",
    "    # For very small datasets, use different strategy\n",
    "    print(\"Small dataset detected. Using modified splitting strategy...\")\n",
    "    \n",
    "    # Use smaller test size (20%) and no separate validation set\n",
    "    X_train, X_test, y_train, y_test = train_test_split(\n",
    "        X, y, test_size=0.2, random_state=42, stratify=None\n",
    "    )\n",
    "    \n",
    "    # Use training set for validation (cross-validation will be used instead)\n",
    "    X_val, y_val = X_train, y_train\n",
    "    \n",
    "    print(f\"Training set: {X_train.shape}\")\n",
    "    print(f\"Validation set (same as training): {X_val.shape}\")\n",
    "    print(f\"Test set: {X_test.shape}\")\n",
    "    \n",
    "    print(\"\\nNote: Due to small dataset size, we'll rely on cross-validation for model evaluation.\")\n",
    "    \n",
    "else:\n",
    "    # Normal splitting for larger datasets\n",
    "    X_train, X_test, y_train, y_test = train_test_split(\n",
    "        X, y, test_size=0.2, random_state=42, stratify=None\n",
    "    )\n",
    "    \n",
    "    # Further split training data for validation\n",
    "    X_train, X_val, y_train, y_val = train_test_split(\n",
    "        X_train, y_train, test_size=0.25, random_state=42\n",
    "    )\n",
    "    \n",
    "    print(f\"Training set: {X_train.shape}\")\n",
    "    print(f\"Validation set: {X_val.shape}\")\n",
    "    print(f\"Test set: {X_test.shape}\")"
   ]
  },
  {
   "cell_type": "markdown",
   "id": "fef8f8dd",
   "metadata": {},
   "source": [
    "## Feature Scaling"
   ]
  },
  {
   "cell_type": "code",
   "execution_count": 8,
   "id": "25adfd52",
   "metadata": {},
   "outputs": [
    {
     "name": "stdout",
     "output_type": "stream",
     "text": [
      "Feature scaling completed.\n"
     ]
    }
   ],
   "source": [
    "# Scale features\n",
    "scaler = StandardScaler()\n",
    "X_train_scaled = scaler.fit_transform(X_train)\n",
    "X_val_scaled = scaler.transform(X_val)\n",
    "X_test_scaled = scaler.transform(X_test)\n",
    "\n",
    "# Convert back to DataFrame for easier handling\n",
    "X_train_scaled = pd.DataFrame(X_train_scaled, columns=X_train.columns, index=X_train.index)\n",
    "X_val_scaled = pd.DataFrame(X_val_scaled, columns=X_val.columns, index=X_val.index)\n",
    "X_test_scaled = pd.DataFrame(X_test_scaled, columns=X_test.columns, index=X_test.index)\n",
    "\n",
    "print(\"Feature scaling completed.\")"
   ]
  },
  {
   "cell_type": "markdown",
   "id": "0121d198",
   "metadata": {},
   "source": [
    "## Model Training and Evaluation"
   ]
  },
  {
   "cell_type": "code",
   "execution_count": 9,
   "id": "542b5212",
   "metadata": {},
   "outputs": [
    {
     "name": "stdout",
     "output_type": "stream",
     "text": [
      "Training models with cross-validation...\n",
      "\n",
      "Training Linear Regression...\n",
      "MAE: 0.0251\n",
      "RMSE: 0.0345\n",
      "R²: 0.7611\n",
      "CV R² (mean ± std): -25.7283 ± 32.3390\n",
      "\n",
      "Training Ridge Regression...\n",
      "MAE: 0.0320\n",
      "RMSE: 0.0430\n",
      "R²: 0.6292\n",
      "CV R² (mean ± std): -0.3281 ± 0.5308\n",
      "\n",
      "Training Lasso Regression...\n",
      "MAE: 0.0566\n",
      "RMSE: 0.0706\n",
      "R²: 0.0000\n",
      "CV R² (mean ± std): -0.0888 ± 0.0709\n",
      "\n",
      "Training Decision Tree...\n",
      "MAE: 0.0225\n",
      "RMSE: 0.0322\n",
      "R²: 0.7919\n",
      "CV R² (mean ± std): -1.2211 ± 1.0085\n",
      "\n",
      "Training Random Forest...\n",
      "MAE: 0.0320\n",
      "RMSE: 0.0430\n",
      "R²: 0.6292\n",
      "CV R² (mean ± std): -0.3281 ± 0.5308\n",
      "\n",
      "Training Lasso Regression...\n",
      "MAE: 0.0566\n",
      "RMSE: 0.0706\n",
      "R²: 0.0000\n",
      "CV R² (mean ± std): -0.0888 ± 0.0709\n",
      "\n",
      "Training Decision Tree...\n",
      "MAE: 0.0225\n",
      "RMSE: 0.0322\n",
      "R²: 0.7919\n",
      "CV R² (mean ± std): -1.2211 ± 1.0085\n",
      "\n",
      "Training Random Forest...\n",
      "MAE: 0.0291\n",
      "RMSE: 0.0346\n",
      "R²: 0.7596\n",
      "CV R² (mean ± std): -0.2406 ± 0.5239\n",
      "\n",
      "Training Gradient Boosting...\n",
      "MAE: 0.0291\n",
      "RMSE: 0.0346\n",
      "R²: 0.7596\n",
      "CV R² (mean ± std): -0.2406 ± 0.5239\n",
      "\n",
      "Training Gradient Boosting...\n",
      "MAE: 0.0026\n",
      "RMSE: 0.0031\n",
      "R²: 0.9980\n",
      "CV R² (mean ± std): -0.5012 ± 0.6609\n",
      "\n",
      "Training XGBoost...\n",
      "MAE: 0.0026\n",
      "RMSE: 0.0031\n",
      "R²: 0.9980\n",
      "CV R² (mean ± std): -0.5012 ± 0.6609\n",
      "\n",
      "Training XGBoost...\n",
      "MAE: 0.0005\n",
      "RMSE: 0.0007\n",
      "R²: 0.9999\n",
      "CV R² (mean ± std): -0.6946 ± 0.7920\n",
      "\n",
      "Training completed. Successful models: 7\n",
      "MAE: 0.0005\n",
      "RMSE: 0.0007\n",
      "R²: 0.9999\n",
      "CV R² (mean ± std): -0.6946 ± 0.7920\n",
      "\n",
      "Training completed. Successful models: 7\n"
     ]
    }
   ],
   "source": [
    "# Initialize models with simpler configurations for small dataset\n",
    "models = {\n",
    "    'Linear Regression': LinearRegression(),\n",
    "    'Ridge Regression': Ridge(alpha=1.0),\n",
    "    'Lasso Regression': Lasso(alpha=1.0),\n",
    "    'Decision Tree': DecisionTreeRegressor(random_state=42, max_depth=3),  # Limit depth for small data\n",
    "    'Random Forest': RandomForestRegressor(n_estimators=50, random_state=42, max_depth=3),  # Smaller ensemble\n",
    "    'Gradient Boosting': GradientBoostingRegressor(random_state=42, n_estimators=50, max_depth=3),\n",
    "    'XGBoost': xgb.XGBRegressor(random_state=42, n_estimators=50, max_depth=3)\n",
    "}\n",
    "\n",
    "# Store results\n",
    "results = {}\n",
    "\n",
    "print(\"Training models with cross-validation...\")\n",
    "\n",
    "# Train and evaluate models using cross-validation for better estimates\n",
    "for name, model in models.items():\n",
    "    print(f\"\\nTraining {name}...\")\n",
    "    \n",
    "    try:\n",
    "        # Use scaled data for linear models, original for tree-based models\n",
    "        if name in ['Linear Regression', 'Ridge Regression', 'Lasso Regression']:\n",
    "            # For linear models, use scaled data\n",
    "            model.fit(X_train_scaled, y_train)\n",
    "            y_pred = model.predict(X_val_scaled)\n",
    "            \n",
    "            # Cross-validation on scaled data\n",
    "            cv_scores = cross_val_score(model, X_train_scaled, y_train, cv=3, scoring='r2')\n",
    "            \n",
    "        else:\n",
    "            # For tree-based models, use original data\n",
    "            model.fit(X_train, y_train)\n",
    "            y_pred = model.predict(X_val)\n",
    "            \n",
    "            # Cross-validation on original data\n",
    "            cv_scores = cross_val_score(model, X_train, y_train, cv=3, scoring='r2')\n",
    "        \n",
    "        # Calculate metrics\n",
    "        mae = mean_absolute_error(y_val, y_pred)\n",
    "        mse = mean_squared_error(y_val, y_pred)\n",
    "        rmse = np.sqrt(mse)\n",
    "        r2 = r2_score(y_val, y_pred)\n",
    "        \n",
    "        # Store results including CV scores\n",
    "        results[name] = {\n",
    "            'MAE': mae,\n",
    "            'MSE': mse,\n",
    "            'RMSE': rmse,\n",
    "            'R2': r2,\n",
    "            'CV_mean': cv_scores.mean(),\n",
    "            'CV_std': cv_scores.std(),\n",
    "            'Model': model\n",
    "        }\n",
    "        \n",
    "        print(f\"MAE: {mae:.4f}\")\n",
    "        print(f\"RMSE: {rmse:.4f}\")\n",
    "        print(f\"R²: {r2:.4f}\")\n",
    "        print(f\"CV R² (mean ± std): {cv_scores.mean():.4f} ± {cv_scores.std():.4f}\")\n",
    "        \n",
    "    except Exception as e:\n",
    "        print(f\"Error training {name}: {e}\")\n",
    "        # Store placeholder results for failed models\n",
    "        results[name] = {\n",
    "            'MAE': np.nan,\n",
    "            'MSE': np.nan,\n",
    "            'RMSE': np.nan,\n",
    "            'R2': np.nan,\n",
    "            'CV_mean': np.nan,\n",
    "            'CV_std': np.nan,\n",
    "            'Model': None\n",
    "        }\n",
    "\n",
    "print(f\"\\nTraining completed. Successful models: {len([r for r in results.values() if r['Model'] is not None])}\")"
   ]
  },
  {
   "cell_type": "markdown",
   "id": "0137be24",
   "metadata": {},
   "source": [
    "## Model Comparison"
   ]
  },
  {
   "cell_type": "code",
   "execution_count": 10,
   "id": "30619a24",
   "metadata": {},
   "outputs": [
    {
     "name": "stdout",
     "output_type": "stream",
     "text": [
      "\n",
      "Model Performance Comparison:\n",
      "               Model     MAE    RMSE      R²\n",
      "6            XGBoost  0.0005  0.0007  0.9999\n",
      "5  Gradient Boosting  0.0026  0.0031  0.9980\n",
      "3      Decision Tree  0.0225  0.0322  0.7919\n",
      "0  Linear Regression  0.0251  0.0345  0.7611\n",
      "4      Random Forest  0.0291  0.0346  0.7596\n",
      "1   Ridge Regression  0.0320  0.0430  0.6292\n",
      "2   Lasso Regression  0.0566  0.0706  0.0000\n"
     ]
    }
   ],
   "source": [
    "# Create comparison DataFrame\n",
    "comparison_df = pd.DataFrame({\n",
    "    'Model': list(results.keys()),\n",
    "    'MAE': [results[model]['MAE'] for model in results.keys()],\n",
    "    'RMSE': [results[model]['RMSE'] for model in results.keys()],\n",
    "    'R²': [results[model]['R2'] for model in results.keys()]\n",
    "})\n",
    "\n",
    "# Sort by R² score (descending)\n",
    "comparison_df = comparison_df.sort_values('R²', ascending=False)\n",
    "print(\"\\nModel Performance Comparison:\")\n",
    "print(comparison_df.round(4))"
   ]
  },
  {
   "cell_type": "code",
   "execution_count": 11,
   "id": "01bb18ab",
   "metadata": {},
   "outputs": [
    {
     "data": {
      "image/png": "[encoded data removed]",
      "text/plain": [
       "<Figure size 1800x500 with 3 Axes>"
      ]
     },
     "metadata": {},
     "output_type": "display_data"
    }
   ],
   "source": [
    "# Visualize model comparison\n",
    "fig, axes = plt.subplots(1, 3, figsize=(18, 5))\n",
    "\n",
    "# MAE comparison\n",
    "axes[0].bar(comparison_df['Model'], comparison_df['MAE'], color='skyblue')\n",
    "axes[0].set_title('Mean Absolute Error (Lower is Better)')\n",
    "axes[0].set_ylabel('MAE')\n",
    "axes[0].tick_params(axis='x', rotation=45)\n",
    "\n",
    "# RMSE comparison\n",
    "axes[1].bar(comparison_df['Model'], comparison_df['RMSE'], color='lightcoral')\n",
    "axes[1].set_title('Root Mean Square Error (Lower is Better)')\n",
    "axes[1].set_ylabel('RMSE')\n",
    "axes[1].tick_params(axis='x', rotation=45)\n",
    "\n",
    "# R² comparison\n",
    "axes[2].bar(comparison_df['Model'], comparison_df['R²'], color='lightgreen')\n",
    "axes[2].set_title('R² Score (Higher is Better)')\n",
    "axes[2].set_ylabel('R²')\n",
    "axes[2].tick_params(axis='x', rotation=45)\n",
    "\n",
    "plt.tight_layout()\n",
    "plt.savefig('../results/Model_Performance_Comparison.png', dpi=300, bbox_inches='tight')\n",
    "plt.show()"
   ]
  },
  {
   "cell_type": "markdown",
   "id": "7910f528",
   "metadata": {},
   "source": [
    "## Best Model Selection and Hyperparameter Tuning"
   ]
  },
  {
   "cell_type": "code",
   "execution_count": 12,
   "id": "357cb959",
   "metadata": {},
   "outputs": [
    {
     "name": "stdout",
     "output_type": "stream",
     "text": [
      "Selecting best model based on cross-validation performance...\n",
      "Best performing model based on CV: Lasso Regression\n",
      "CV R² score: -0.0888 ± 0.0709\n",
      "Using Lasso Regression without additional hyperparameter tuning to avoid overfitting on small dataset.\n",
      "\n",
      "Best model details:\n",
      "- Model: Lasso Regression\n",
      "- Validation R²: 0.0000\n",
      "- Cross-validation R²: -0.0888 ± 0.0709\n",
      "- MAE: 0.0566\n",
      "- RMSE: 0.0706\n"
     ]
    }
   ],
   "source": [
    "# Select the best model based on cross-validation performance for small dataset\n",
    "print(\"Selecting best model based on cross-validation performance...\")\n",
    "\n",
    "# Filter out models with failed CV (very negative scores indicate overfitting)\n",
    "valid_models = {name: result for name, result in results.items() \n",
    "                if result['Model'] is not None and result['CV_mean'] > -10}\n",
    "\n",
    "if valid_models:\n",
    "    # Sort by CV performance for small datasets\n",
    "    best_model_name = max(valid_models.keys(), key=lambda x: valid_models[x]['CV_mean'])\n",
    "    print(f\"Best performing model based on CV: {best_model_name}\")\n",
    "    print(f\"CV R² score: {valid_models[best_model_name]['CV_mean']:.4f} ± {valid_models[best_model_name]['CV_std']:.4f}\")\n",
    "else:\n",
    "    # Fallback to best validation score\n",
    "    best_model_name = comparison_df.iloc[0]['Model']\n",
    "    print(f\"Using best validation model (CV failed): {best_model_name}\")\n",
    "\n",
    "best_model = results[best_model_name]['Model']\n",
    "\n",
    "# For small datasets, no extensive hyperparameter tuning to avoid overfitting\n",
    "print(f\"Using {best_model_name} without additional hyperparameter tuning to avoid overfitting on small dataset.\")\n",
    "\n",
    "print(f\"\\nBest model details:\")\n",
    "print(f\"- Model: {best_model_name}\")\n",
    "print(f\"- Validation R²: {results[best_model_name]['R2']:.4f}\")\n",
    "print(f\"- Cross-validation R²: {results[best_model_name]['CV_mean']:.4f} ± {results[best_model_name]['CV_std']:.4f}\")\n",
    "print(f\"- MAE: {results[best_model_name]['MAE']:.4f}\")\n",
    "print(f\"- RMSE: {results[best_model_name]['RMSE']:.4f}\")"
   ]
  },
  {
   "cell_type": "code",
   "execution_count": 13,
   "id": "8d13f044",
   "metadata": {},
   "outputs": [
    {
     "name": "stdout",
     "output_type": "stream",
     "text": [
      "Skipping hyperparameter tuning for small dataset (n=30)\n",
      "Using Lasso Regression with default parameters to prevent overfitting.\n",
      "\n",
      "Final model: Lasso Regression\n",
      "Model parameters: {'alpha': 1.0, 'copy_X': True, 'fit_intercept': True, 'max_iter': 1000, 'positive': False, 'precompute': False, 'random_state': None, 'selection': 'cyclic', 'tol': 0.0001, 'warm_start': False}\n"
     ]
    }
   ],
   "source": [
    "# Skip extensive hyperparameter tuning for small dataset to avoid overfitting\n",
    "print(f\"Skipping hyperparameter tuning for small dataset (n={len(X)})\")\n",
    "print(f\"Using {best_model_name} with default parameters to prevent overfitting.\")\n",
    "\n",
    "# Use the best model as-is\n",
    "print(f\"\\nFinal model: {best_model_name}\")\n",
    "print(f\"Model parameters: {best_model.get_params()}\")"
   ]
  },
  {
   "cell_type": "markdown",
   "id": "21ed2a84",
   "metadata": {},
   "source": [
    "## Final Model Evaluation on Test Set"
   ]
  },
  {
   "cell_type": "code",
   "execution_count": 14,
   "id": "32ee37ba",
   "metadata": {},
   "outputs": [
    {
     "name": "stdout",
     "output_type": "stream",
     "text": [
      "\n",
      "Final Test Set Performance (Lasso Regression):\n",
      "MAE: 0.0372\n",
      "RMSE: 0.0461\n",
      "R²: -1.2217\n"
     ]
    }
   ],
   "source": [
    "# Final evaluation on test set\n",
    "if best_model_name in ['Linear Regression', 'Ridge Regression', 'Lasso Regression']:\n",
    "    y_test_pred = best_model.predict(X_test_scaled)\n",
    "else:\n",
    "    y_test_pred = best_model.predict(X_test)\n",
    "\n",
    "# Calculate final metrics\n",
    "test_mae = mean_absolute_error(y_test, y_test_pred)\n",
    "test_mse = mean_squared_error(y_test, y_test_pred)\n",
    "test_rmse = np.sqrt(test_mse)\n",
    "test_r2 = r2_score(y_test, y_test_pred)\n",
    "\n",
    "print(f\"\\nFinal Test Set Performance ({best_model_name}):\")\n",
    "print(f\"MAE: {test_mae:.4f}\")\n",
    "print(f\"RMSE: {test_rmse:.4f}\")\n",
    "print(f\"R²: {test_r2:.4f}\")"
   ]
  },
  {
   "cell_type": "markdown",
   "id": "d9b033a0",
   "metadata": {},
   "source": [
    "## Feature Importance Analysis"
   ]
  },
  {
   "cell_type": "code",
   "execution_count": 15,
   "id": "ffeb9ca5",
   "metadata": {},
   "outputs": [
    {
     "name": "stdout",
     "output_type": "stream",
     "text": [
      "\n",
      "Model Coefficients:\n",
      "                 feature  coefficient\n",
      "0             jumlah_fnb         -0.0\n",
      "1           jumlah_taman         -0.0\n",
      "2              avg_price         -0.0\n",
      "3        Jumlah Penduduk         -0.0\n",
      "4           Luas Wilayah          0.0\n",
      "5         Kepadatan Jiwa         -0.0\n",
      "6          jumlah_kampus         -0.0\n",
      "7         fnb_per_capita         -0.0\n",
      "8            fnb_per_km2         -0.0\n",
      "9       taman_per_capita          0.0\n",
      "10     kampus_per_capita         -0.0\n",
      "11  density_category_num         -0.0\n",
      "12    price_category_num         -0.0\n"
     ]
    },
    {
     "name": "stdout",
     "output_type": "stream",
     "text": [
      "\n",
      "Model Coefficients:\n",
      "                 feature  coefficient\n",
      "0             jumlah_fnb         -0.0\n",
      "1           jumlah_taman         -0.0\n",
      "2              avg_price         -0.0\n",
      "3        Jumlah Penduduk         -0.0\n",
      "4           Luas Wilayah          0.0\n",
      "5         Kepadatan Jiwa         -0.0\n",
      "6          jumlah_kampus         -0.0\n",
      "7         fnb_per_capita         -0.0\n",
      "8            fnb_per_km2         -0.0\n",
      "9       taman_per_capita          0.0\n",
      "10     kampus_per_capita         -0.0\n",
      "11  density_category_num         -0.0\n",
      "12    price_category_num         -0.0\n"
     ]
    },
    {
     "data": {
      "image/png": "[encoded data removed]",
      "text/plain": [
       "<Figure size 1000x800 with 1 Axes>"
      ]
     },
     "metadata": {},
     "output_type": "display_data"
    }
   ],
   "source": [
    "# Feature importance (for tree-based models)\n",
    "if hasattr(best_model, 'feature_importances_'):\n",
    "    feature_importance = pd.DataFrame({\n",
    "        'feature': X_train.columns,\n",
    "        'importance': best_model.feature_importances_\n",
    "    }).sort_values('importance', ascending=False)\n",
    "    \n",
    "    print(\"\\nFeature Importance:\")\n",
    "    print(feature_importance)\n",
    "    \n",
    "    # Plot feature importance\n",
    "    plt.figure(figsize=(10, 8))\n",
    "    sns.barplot(data=feature_importance.head(10), x='importance', y='feature')\n",
    "    plt.title(f'Top 10 Feature Importance - {best_model_name}')\n",
    "    plt.xlabel('Importance')\n",
    "    plt.tight_layout()\n",
    "    plt.savefig('../results/Feature_Importance.png', dpi=300, bbox_inches='tight')\n",
    "    plt.show()\n",
    "\n",
    "elif hasattr(best_model, 'coef_'):\n",
    "    # For linear models, show coefficients\n",
    "    feature_coeff = pd.DataFrame({\n",
    "        'feature': X_train.columns,\n",
    "        'coefficient': best_model.coef_\n",
    "    }).sort_values('coefficient', key=abs, ascending=False)\n",
    "    \n",
    "    print(\"\\nModel Coefficients:\")\n",
    "    print(feature_coeff)\n",
    "    \n",
    "    # Plot coefficients\n",
    "    plt.figure(figsize=(10, 8))\n",
    "    sns.barplot(data=feature_coeff.head(10), x='coefficient', y='feature')\n",
    "    plt.title(f'Top 10 Feature Coefficients - {best_model_name}')\n",
    "    plt.xlabel('Coefficient')\n",
    "    plt.tight_layout()\n",
    "    plt.savefig('../results/Feature_Coefficients.png', dpi=300, bbox_inches='tight')\n",
    "    plt.show()"
   ]
  },
  {
   "cell_type": "markdown",
   "id": "54d03cec",
   "metadata": {},
   "source": [
    "## Prediction vs Actual Plot"
   ]
  },
  {
   "cell_type": "code",
   "execution_count": 16,
   "id": "83244cae",
   "metadata": {},
   "outputs": [
    {
     "data": {
      "image/png": "[encoded data removed]",
      "text/plain": [
       "<Figure size 1000x800 with 1 Axes>"
      ]
     },
     "metadata": {},
     "output_type": "display_data"
    }
   ],
   "source": [
    "# Plot predictions vs actual values\n",
    "plt.figure(figsize=(10, 8))\n",
    "plt.scatter(y_test, y_test_pred, alpha=0.6)\n",
    "plt.plot([y_test.min(), y_test.max()], [y_test.min(), y_test.max()], 'r--', lw=2)\n",
    "plt.xlabel('Actual Rating')\n",
    "plt.ylabel('Predicted Rating')\n",
    "plt.title(f'Actual vs Predicted Ratings - {best_model_name}')\n",
    "plt.text(0.05, 0.95, f'R² = {test_r2:.4f}\\nRMSE = {test_rmse:.4f}', \n",
    "         transform=plt.gca().transAxes, fontsize=12, verticalalignment='top',\n",
    "         bbox=dict(boxstyle='round', facecolor='wheat', alpha=0.5))\n",
    "plt.tight_layout()\n",
    "plt.savefig('../results/Actual_vs_Predicted.png', dpi=300, bbox_inches='tight')\n",
    "plt.show()"
   ]
  },
  {
   "cell_type": "markdown",
   "id": "d001615b",
   "metadata": {},
   "source": [
    "## Save the Best Model"
   ]
  },
  {
   "cell_type": "code",
   "execution_count": 17,
   "id": "de42838c",
   "metadata": {},
   "outputs": [
    {
     "name": "stdout",
     "output_type": "stream",
     "text": [
      "\n",
      "Model saved successfully!\n",
      "Best model: Lasso Regression\n",
      "Test R²: -1.2217\n",
      "Test RMSE: 0.0461\n"
     ]
    }
   ],
   "source": [
    "# Save the best model and scaler\n",
    "joblib.dump(best_model, '../models/best_model.pkl')\n",
    "joblib.dump(scaler, '../models/scaler.pkl')\n",
    "\n",
    "# Save feature names for future use\n",
    "with open('../models/feature_names.txt', 'w') as f:\n",
    "    for feature in X_train.columns:\n",
    "        f.write(f\"{feature}\\n\")\n",
    "\n",
    "print(f\"\\nModel saved successfully!\")\n",
    "print(f\"Best model: {best_model_name}\")\n",
    "print(f\"Test R²: {test_r2:.4f}\")\n",
    "print(f\"Test RMSE: {test_rmse:.4f}\")"
   ]
  },
  {
   "cell_type": "markdown",
   "id": "35fab29d",
   "metadata": {},
   "source": [
    "## Model Summary"
   ]
  },
  {
   "cell_type": "code",
   "execution_count": 18,
   "id": "37c0b71f",
   "metadata": {},
   "outputs": [
    {
     "name": "stdout",
     "output_type": "stream",
     "text": [
      "\n",
      "=== AI Business Impact Predictor - Model Summary ===\n",
      "\n",
      "Dataset Information:\n",
      "- Total samples: 30\n",
      "- Features used: 13\n",
      "- Train/Val/Test split: 24/24/6\n",
      "\n",
      "Best Model: Lasso Regression\n",
      "Performance Metrics:\n",
      "- Test R²: -1.2217\n",
      "- Test RMSE: 0.0461\n",
      "- Test MAE: 0.0372\n",
      "\n",
      "Features Used:\n",
      "jumlah_fnb, jumlah_taman, avg_price, Jumlah Penduduk, Luas Wilayah, Kepadatan Jiwa, jumlah_kampus, fnb_per_capita, fnb_per_km2, taman_per_capita, kampus_per_capita, density_category_num, price_category_num\n",
      "\n",
      "Model saved to: ../models/best_model.pkl\n",
      "Scaler saved to: ../models/scaler.pkl\n",
      "\n"
     ]
    }
   ],
   "source": [
    "# Create a summary report\n",
    "summary = f\"\"\"\n",
    "=== AI Business Impact Predictor - Model Summary ===\n",
    "\n",
    "Dataset Information:\n",
    "- Total samples: {len(df)}\n",
    "- Features used: {len(X_train.columns)}\n",
    "- Train/Val/Test split: {len(X_train)}/{len(X_val)}/{len(X_test)}\n",
    "\n",
    "Best Model: {best_model_name}\n",
    "Performance Metrics:\n",
    "- Test R²: {test_r2:.4f}\n",
    "- Test RMSE: {test_rmse:.4f}\n",
    "- Test MAE: {test_mae:.4f}\n",
    "\n",
    "Features Used:\n",
    "{', '.join(X_train.columns.tolist())}\n",
    "\n",
    "Model saved to: ../models/best_model.pkl\n",
    "Scaler saved to: ../models/scaler.pkl\n",
    "\"\"\"\n",
    "\n",
    "print(summary)\n",
    "\n",
    "# Save summary to file\n",
    "with open('../results/model_summary.txt', 'w') as f:\n",
    "    f.write(summary)"
   ]
  }
 ],
 "metadata": {
  "kernelspec": {
   "display_name": ".venv",
   "language": "python",
   "name": "python3"
  },
  "language_info": {
   "codemirror_mode": {
    "name": "ipython",
    "version": 3
   },
   "file_extension": ".py",
   "mimetype": "text/x-python",
   "name": "python",
   "nbconvert_exporter": "python",
   "pygments_lexer": "ipython3",
   "version": "3.13.3"
  }
 },
 "nbformat": 4,
 "nbformat_minor": 5
}
