{
 "cells": [
  {
   "cell_type": "code",
   "execution_count": 6,
   "id": "0918e743",
   "metadata": {},
   "outputs": [
    {
     "name": "stdout",
     "output_type": "stream",
     "text": [
      "<class 'pandas.core.frame.DataFrame'>\n",
      "Index: 706 entries, 31 to 3077\n",
      "Data columns (total 2 columns):\n",
      " #   Column     Non-Null Count  Dtype \n",
      "---  ------     --------------  ----- \n",
      " 0   kelurahan  706 non-null    object\n",
      " 1   kecamatan  706 non-null    object\n",
      "dtypes: object(2)\n",
      "memory usage: 16.5+ KB\n"
     ]
    },
    {
     "name": "stderr",
     "output_type": "stream",
     "text": [
      "C:\\Users\\ridho\\AppData\\Local\\Temp\\ipykernel_10116\\713344179.py:10: FutureWarning: A value is trying to be set on a copy of a DataFrame or Series through chained assignment using an inplace method.\n",
      "The behavior will change in pandas 3.0. This inplace method will never work because the intermediate object on which we are setting values always behaves as a copy.\n",
      "\n",
      "For example, when doing 'df[col].method(value, inplace=True)', try using 'df.method({col: value}, inplace=True)' or df[col] = df[col].method(value) instead, to perform the operation inplace on the original object.\n",
      "\n",
      "\n",
      "  df_district['kecamatan'].fillna(df_district['kecamatan'].mode()[0], inplace=True)\n"
     ]
    }
   ],
   "source": [
    "import pandas as pd\n",
    "\n",
    "df = pd.read_csv('./datasets/data_fnb_bandung_2024.csv')\n",
    "\n",
    "df_district = df[['kelurahan','kecamatan']]\n",
    "\n",
    "df_district_dropna =  df_district.dropna(subset=['kelurahan', 'kecamatan'])\n",
    "\n",
    "df_district = df_district.dropna(subset=['kelurahan'])\n",
    "df_district['kecamatan'].fillna(df_district['kecamatan'].mode()[0], inplace=True)\n",
    "df_district.info()"
   ]
  },
  {
   "cell_type": "code",
   "execution_count": null,
   "id": "528b8768",
   "metadata": {},
   "outputs": [],
   "source": []
  },
  {
   "cell_type": "code",
   "execution_count": null,
   "id": "2ecb0801",
   "metadata": {},
   "outputs": [],
   "source": []
  }
 ],
 "metadata": {
  "kernelspec": {
   "display_name": "Python 3",
   "language": "python",
   "name": "python3"
  },
  "language_info": {
   "codemirror_mode": {
    "name": "ipython",
    "version": 3
   },
   "file_extension": ".py",
   "mimetype": "text/x-python",
   "name": "python",
   "nbconvert_exporter": "python",
   "pygments_lexer": "ipython3",
   "version": "3.13.5"
  }
 },
 "nbformat": 4,
 "nbformat_minor": 5
}
